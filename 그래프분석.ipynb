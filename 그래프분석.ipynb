{
 "cells": [
  {
   "cell_type": "code",
   "execution_count": 32,
   "metadata": {},
   "outputs": [],
   "source": [
    "import statsmodels.api as sm\n",
    "import requests as req\n",
    "from bs4 import BeautifulSoup\n",
    "import pandas as pd\n",
    "import traceback\n",
    "from matplotlib import pyplot as plt\n",
    "import numpy as np\n",
    "from sklearn.linear_model import LinearRegression"
   ]
  },
  {
   "cell_type": "markdown",
   "metadata": {},
   "source": [
    "Linear-regression 참고사이트 : http://hleecaster.com/ml-linear-regression-example/"
   ]
  },
  {
   "cell_type": "markdown",
   "metadata": {},
   "source": [
    "### 화물-주가 그래프\n",
    "Source : 국도교통부 항공통계"
   ]
  },
  {
   "cell_type": "markdown",
   "metadata": {},
   "source": [
    "### 대한항공주가"
   ]
  },
  {
   "cell_type": "code",
   "execution_count": 563,
   "metadata": {},
   "outputs": [],
   "source": [
    "url = \"https://www.investing.com/instruments/HistoricalDataAjax\"\n",
    "head = {\n",
    "    'User-Agent': 'Mozilla/5.0 (Windows NT 10.0; Win64; x64) AppleWebKit/537.36 (KHTML, like Gecko) Chrome/86.0.4240.183 Safari/537.36',\n",
    "    'X-Requested-With': 'XMLHttpRequest'\n",
    "}\n",
    "payload = {\n",
    "    'curr_id': '43514',\n",
    "'smlID': '1312682',\n",
    "'header': '003490 Historical Data',\n",
    "'st_date': '01/01/2010',\n",
    "'end_date': '12/31/2019',\n",
    "'interval_sec': 'Monthly',\n",
    "'sort_col': 'date',\n",
    "'sort_ord': 'DESC',\n",
    "'action': 'historical_data',\n",
    "}\n",
    "data = req.post(url, headers = head, data = payload)\n",
    "data.status_code\n",
    "raw1 = BeautifulSoup(data.text)\n",
    "yraw1 = pd.read_html(str(raw1.find('table')))[0]\n",
    "ypot = yraw1['Price']\n",
    "y1raw = ypot.values\n",
    "yraw1.to_excel(excel_writer=r'C:\\Users\\com\\MSB535\\data\\대한항공주가.xlsx')\n",
    "#13년 8월 주가정보 없음."
   ]
  },
  {
   "cell_type": "markdown",
   "metadata": {},
   "source": [
    "### 아시아나항공주가"
   ]
  },
  {
   "cell_type": "code",
   "execution_count": 564,
   "metadata": {},
   "outputs": [],
   "source": [
    "url = \"https://www.investing.com/instruments/HistoricalDataAjax\"\n",
    "head = {\n",
    "    'User-Agent': 'Mozilla/5.0 (Windows NT 10.0; Win64; x64) AppleWebKit/537.36 (KHTML, like Gecko) Chrome/86.0.4240.183 Safari/537.36',\n",
    "    'X-Requested-With': 'XMLHttpRequest'\n",
    "}\n",
    "payload = {\n",
    "    'curr_id': '43898',\n",
    "'header': '020560 Historical Data',\n",
    "'st_date': '01/01/2010',\n",
    "'end_date': '12/31/2019',\n",
    "'interval_sec': 'Monthly',\n",
    "'sort_col': 'date',\n",
    "'sort_ord': 'DESC',\n",
    "'action': 'historical_data',\n",
    "}\n",
    "data = req.post(url, headers = head, data = payload)\n",
    "data.status_code\n",
    "raw1 = BeautifulSoup(data.text)\n",
    "yraw2 = pd.read_html(str(raw1.find('table')))[0]\n",
    "y2pot = yraw2['Price']\n",
    "y2raw = y2pot.values\n",
    "#13년 8월 주가정보 없음\n",
    "yraw2.to_excel(excel_writer=r'C:\\Users\\com\\MSB535\\data\\아시아나주가.xlsx')"
   ]
  },
  {
   "cell_type": "code",
   "execution_count": 159,
   "metadata": {},
   "outputs": [],
   "source": [
    "raw = pd.read_excel(r'C:\\Users\\com\\[MSB535]\\data\\화물.xlsx', index_col = 0)"
   ]
  },
  {
   "cell_type": "code",
   "execution_count": 160,
   "metadata": {},
   "outputs": [
    {
     "data": {
      "text/plain": [
       "120"
      ]
     },
     "execution_count": 160,
     "metadata": {},
     "output_type": "execute_result"
    }
   ],
   "source": [
    "x1raw = raw.loc['대한항공(KAL)']['화물(톤)']\n",
    "x1r = sm.add_constant(x1raw,has_constant='add')\n",
    "x1r = x1r[::-1]\n",
    "x1r = x1r.reset_index()\n",
    "x1r = x1r.drop(labels = 'index', axis = 1)\n",
    "len(x1r)"
   ]
  },
  {
   "cell_type": "code",
   "execution_count": 161,
   "metadata": {},
   "outputs": [
    {
     "data": {
      "text/plain": [
       "(array([20], dtype=int64),)"
      ]
     },
     "execution_count": 161,
     "metadata": {},
     "output_type": "execute_result"
    }
   ],
   "source": [
    "np.where(0==x1r['화물(톤)'].values)"
   ]
  },
  {
   "cell_type": "code",
   "execution_count": 162,
   "metadata": {},
   "outputs": [],
   "source": [
    "x1c = x1r.drop([x1r.index[20],x1r.index[75]])"
   ]
  },
  {
   "cell_type": "code",
   "execution_count": 231,
   "metadata": {},
   "outputs": [],
   "source": [
    "yraw1 = pd.read_excel(r'C:\\Users\\com\\[MSB535]\\data\\대한항공주가.xlsx', index_col = 0)\n",
    "ypot = yraw1['Price']\n",
    "y1 = ypot.values"
   ]
  },
  {
   "cell_type": "code",
   "execution_count": 232,
   "metadata": {
    "scrolled": true
   },
   "outputs": [],
   "source": [
    "y1 = np.delete(y1,20)\n",
    "y1 = np.delete(y1,75)"
   ]
  },
  {
   "cell_type": "code",
   "execution_count": 165,
   "metadata": {},
   "outputs": [],
   "source": [
    "x1cv= x1c['화물(톤)'].values"
   ]
  },
  {
   "cell_type": "code",
   "execution_count": 166,
   "metadata": {},
   "outputs": [
    {
     "data": {
      "text/plain": [
       "LinearRegression(copy_X=True, fit_intercept=True, n_jobs=None, normalize=False)"
      ]
     },
     "execution_count": 166,
     "metadata": {},
     "output_type": "execute_result"
    }
   ],
   "source": [
    "line1 = LinearRegression()\n",
    "line1.fit(x1cv.reshape(-1,1),y1)"
   ]
  },
  {
   "cell_type": "code",
   "execution_count": 167,
   "metadata": {
    "scrolled": true
   },
   "outputs": [
    {
     "data": {
      "image/png": "[encoded data removed]",
      "text/plain": [
       "<Figure size 432x288 with 1 Axes>"
      ]
     },
     "metadata": {
      "needs_background": "light"
     },
     "output_type": "display_data"
    }
   ],
   "source": [
    "plt.plot(x1values, y1, 'o')\n",
    "plt.plot(x1values,line1.predict(x1cv.reshape(-1,1)), color = 'green')\n",
    "plt.title('Korean Airline Case(Cargo)', fontsize = 15)\n",
    "plt.xlabel('Cargo(tons)', fontsize = 15)\n",
    "plt.ylabel('Stock Price', fontsize = 15)\n",
    "plt.axis([40000,100000,10000,100000])\n",
    "plt.show()"
   ]
  },
  {
   "cell_type": "code",
   "execution_count": 168,
   "metadata": {},
   "outputs": [
    {
     "data": {
      "text/html": [
       "<table class=\"simpletable\">\n",
       "<caption>OLS Regression Results</caption>\n",
       "<tr>\n",
       "  <th>Dep. Variable:</th>            <td>y</td>        <th>  R-squared:         </th> <td>   0.535</td>\n",
       "</tr>\n",
       "<tr>\n",
       "  <th>Model:</th>                   <td>OLS</td>       <th>  Adj. R-squared:    </th> <td>   0.531</td>\n",
       "</tr>\n",
       "<tr>\n",
       "  <th>Method:</th>             <td>Least Squares</td>  <th>  F-statistic:       </th> <td>   133.4</td>\n",
       "</tr>\n",
       "<tr>\n",
       "  <th>Date:</th>             <td>Mon, 16 Nov 2020</td> <th>  Prob (F-statistic):</th> <td>5.23e-21</td>\n",
       "</tr>\n",
       "<tr>\n",
       "  <th>Time:</th>                 <td>23:52:51</td>     <th>  Log-Likelihood:    </th> <td> -1260.5</td>\n",
       "</tr>\n",
       "<tr>\n",
       "  <th>No. Observations:</th>      <td>   118</td>      <th>  AIC:               </th> <td>   2525.</td>\n",
       "</tr>\n",
       "<tr>\n",
       "  <th>Df Residuals:</th>          <td>   116</td>      <th>  BIC:               </th> <td>   2531.</td>\n",
       "</tr>\n",
       "<tr>\n",
       "  <th>Df Model:</th>              <td>     1</td>      <th>                     </th>     <td> </td>   \n",
       "</tr>\n",
       "<tr>\n",
       "  <th>Covariance Type:</th>      <td>nonrobust</td>    <th>                     </th>     <td> </td>   \n",
       "</tr>\n",
       "</table>\n",
       "<table class=\"simpletable\">\n",
       "<tr>\n",
       "    <td></td>       <th>coef</th>     <th>std err</th>      <th>t</th>      <th>P>|t|</th>  <th>[0.025</th>    <th>0.975]</th>  \n",
       "</tr>\n",
       "<tr>\n",
       "  <th>const</th> <td>-4.532e+04</td> <td> 7514.483</td> <td>   -6.031</td> <td> 0.000</td> <td>-6.02e+04</td> <td>-3.04e+04</td>\n",
       "</tr>\n",
       "<tr>\n",
       "  <th>화물(톤)</th> <td>    1.2477</td> <td>    0.108</td> <td>   11.551</td> <td> 0.000</td> <td>    1.034</td> <td>    1.462</td>\n",
       "</tr>\n",
       "</table>\n",
       "<table class=\"simpletable\">\n",
       "<tr>\n",
       "  <th>Omnibus:</th>       <td> 6.093</td> <th>  Durbin-Watson:     </th> <td>   0.740</td>\n",
       "</tr>\n",
       "<tr>\n",
       "  <th>Prob(Omnibus):</th> <td> 0.048</td> <th>  Jarque-Bera (JB):  </th> <td>   6.071</td>\n",
       "</tr>\n",
       "<tr>\n",
       "  <th>Skew:</th>          <td> 0.515</td> <th>  Prob(JB):          </th> <td>  0.0480</td>\n",
       "</tr>\n",
       "<tr>\n",
       "  <th>Kurtosis:</th>      <td> 2.582</td> <th>  Cond. No.          </th> <td>5.34e+05</td>\n",
       "</tr>\n",
       "</table><br/><br/>Warnings:<br/>[1] Standard Errors assume that the covariance matrix of the errors is correctly specified.<br/>[2] The condition number is large, 5.34e+05. This might indicate that there are<br/>strong multicollinearity or other numerical problems."
      ],
      "text/plain": [
       "<class 'statsmodels.iolib.summary.Summary'>\n",
       "\"\"\"\n",
       "                            OLS Regression Results                            \n",
       "==============================================================================\n",
       "Dep. Variable:                      y   R-squared:                       0.535\n",
       "Model:                            OLS   Adj. R-squared:                  0.531\n",
       "Method:                 Least Squares   F-statistic:                     133.4\n",
       "Date:                Mon, 16 Nov 2020   Prob (F-statistic):           5.23e-21\n",
       "Time:                        23:52:51   Log-Likelihood:                -1260.5\n",
       "No. Observations:                 118   AIC:                             2525.\n",
       "Df Residuals:                     116   BIC:                             2531.\n",
       "Df Model:                           1                                         \n",
       "Covariance Type:            nonrobust                                         \n",
       "==============================================================================\n",
       "                 coef    std err          t      P>|t|      [0.025      0.975]\n",
       "------------------------------------------------------------------------------\n",
       "const      -4.532e+04   7514.483     -6.031      0.000   -6.02e+04   -3.04e+04\n",
       "화물(톤)          1.2477      0.108     11.551      0.000       1.034       1.462\n",
       "==============================================================================\n",
       "Omnibus:                        6.093   Durbin-Watson:                   0.740\n",
       "Prob(Omnibus):                  0.048   Jarque-Bera (JB):                6.071\n",
       "Skew:                           0.515   Prob(JB):                       0.0480\n",
       "Kurtosis:                       2.582   Cond. No.                     5.34e+05\n",
       "==============================================================================\n",
       "\n",
       "Warnings:\n",
       "[1] Standard Errors assume that the covariance matrix of the errors is correctly specified.\n",
       "[2] The condition number is large, 5.34e+05. This might indicate that there are\n",
       "strong multicollinearity or other numerical problems.\n",
       "\"\"\""
      ]
     },
     "execution_count": 168,
     "metadata": {},
     "output_type": "execute_result"
    }
   ],
   "source": [
    "model1 = sm.OLS(y1,x1)\n",
    "result=model1.fit()\n",
    "result.summary()"
   ]
  },
  {
   "cell_type": "code",
   "execution_count": 170,
   "metadata": {},
   "outputs": [],
   "source": [
    "x1raw = raw.loc['대한항공(KAL)']['운항(편)']\n",
    "x1r = sm.add_constant(x1raw,has_constant='add')\n",
    "x1r = x1r[::-1]\n",
    "x1r = x1r.reset_index()\n",
    "x1r = x1r.drop(labels = 'index', axis = 1)\n",
    "xn1 = x1r.drop([x1r.index[20],x1r.index[75]])\n",
    "xn1cv= xn1['운항(편)'].values"
   ]
  },
  {
   "cell_type": "code",
   "execution_count": 171,
   "metadata": {},
   "outputs": [
    {
     "data": {
      "text/plain": [
       "LinearRegression(copy_X=True, fit_intercept=True, n_jobs=None, normalize=False)"
      ]
     },
     "execution_count": 171,
     "metadata": {},
     "output_type": "execute_result"
    }
   ],
   "source": [
    "line11 = LinearRegression()\n",
    "line11.fit(xn1cv.reshape(-1,1),y1)"
   ]
  },
  {
   "cell_type": "code",
   "execution_count": 172,
   "metadata": {},
   "outputs": [
    {
     "data": {
      "image/png": "[encoded data removed]",
      "text/plain": [
       "<Figure size 432x288 with 1 Axes>"
      ]
     },
     "metadata": {
      "needs_background": "light"
     },
     "output_type": "display_data"
    }
   ],
   "source": [
    "plt.plot(xn1cv, y1, 'o')\n",
    "plt.plot(xn1cv,line11.predict(xn1cv.reshape(-1,1)), color = 'green')\n",
    "plt.title('Korean Airline Case(Cargo)', fontsize = 15)\n",
    "plt.xlabel('Sorties', fontsize = 15)\n",
    "plt.ylabel('Stock Price', fontsize = 15)\n",
    "#plt.axis([30000,100000,10000,100000])\n",
    "plt.show()"
   ]
  },
  {
   "cell_type": "code",
   "execution_count": 173,
   "metadata": {},
   "outputs": [
    {
     "data": {
      "text/html": [
       "<table class=\"simpletable\">\n",
       "<caption>OLS Regression Results</caption>\n",
       "<tr>\n",
       "  <th>Dep. Variable:</th>            <td>y</td>        <th>  R-squared:         </th> <td>   0.520</td>\n",
       "</tr>\n",
       "<tr>\n",
       "  <th>Model:</th>                   <td>OLS</td>       <th>  Adj. R-squared:    </th> <td>   0.516</td>\n",
       "</tr>\n",
       "<tr>\n",
       "  <th>Method:</th>             <td>Least Squares</td>  <th>  F-statistic:       </th> <td>   125.6</td>\n",
       "</tr>\n",
       "<tr>\n",
       "  <th>Date:</th>             <td>Mon, 16 Nov 2020</td> <th>  Prob (F-statistic):</th> <td>3.38e-20</td>\n",
       "</tr>\n",
       "<tr>\n",
       "  <th>Time:</th>                 <td>23:54:20</td>     <th>  Log-Likelihood:    </th> <td> -1262.4</td>\n",
       "</tr>\n",
       "<tr>\n",
       "  <th>No. Observations:</th>      <td>   118</td>      <th>  AIC:               </th> <td>   2529.</td>\n",
       "</tr>\n",
       "<tr>\n",
       "  <th>Df Residuals:</th>          <td>   116</td>      <th>  BIC:               </th> <td>   2534.</td>\n",
       "</tr>\n",
       "<tr>\n",
       "  <th>Df Model:</th>              <td>     1</td>      <th>                     </th>     <td> </td>   \n",
       "</tr>\n",
       "<tr>\n",
       "  <th>Covariance Type:</th>      <td>nonrobust</td>    <th>                     </th>     <td> </td>   \n",
       "</tr>\n",
       "</table>\n",
       "<table class=\"simpletable\">\n",
       "<tr>\n",
       "    <td></td>       <th>coef</th>     <th>std err</th>      <th>t</th>      <th>P>|t|</th>  <th>[0.025</th>    <th>0.975]</th>  \n",
       "</tr>\n",
       "<tr>\n",
       "  <th>const</th> <td>-6.481e+04</td> <td> 9470.598</td> <td>   -6.843</td> <td> 0.000</td> <td>-8.36e+04</td> <td>-4.61e+04</td>\n",
       "</tr>\n",
       "<tr>\n",
       "  <th>운항(편)</th> <td>  112.3626</td> <td>   10.027</td> <td>   11.206</td> <td> 0.000</td> <td>   92.503</td> <td>  132.222</td>\n",
       "</tr>\n",
       "</table>\n",
       "<table class=\"simpletable\">\n",
       "<tr>\n",
       "  <th>Omnibus:</th>       <td> 5.426</td> <th>  Durbin-Watson:     </th> <td>   0.793</td>\n",
       "</tr>\n",
       "<tr>\n",
       "  <th>Prob(Omnibus):</th> <td> 0.066</td> <th>  Jarque-Bera (JB):  </th> <td>   5.546</td>\n",
       "</tr>\n",
       "<tr>\n",
       "  <th>Skew:</th>          <td> 0.510</td> <th>  Prob(JB):          </th> <td>  0.0625</td>\n",
       "</tr>\n",
       "<tr>\n",
       "  <th>Kurtosis:</th>      <td> 2.705</td> <th>  Cond. No.          </th> <td>8.99e+03</td>\n",
       "</tr>\n",
       "</table><br/><br/>Warnings:<br/>[1] Standard Errors assume that the covariance matrix of the errors is correctly specified.<br/>[2] The condition number is large, 8.99e+03. This might indicate that there are<br/>strong multicollinearity or other numerical problems."
      ],
      "text/plain": [
       "<class 'statsmodels.iolib.summary.Summary'>\n",
       "\"\"\"\n",
       "                            OLS Regression Results                            \n",
       "==============================================================================\n",
       "Dep. Variable:                      y   R-squared:                       0.520\n",
       "Model:                            OLS   Adj. R-squared:                  0.516\n",
       "Method:                 Least Squares   F-statistic:                     125.6\n",
       "Date:                Mon, 16 Nov 2020   Prob (F-statistic):           3.38e-20\n",
       "Time:                        23:54:20   Log-Likelihood:                -1262.4\n",
       "No. Observations:                 118   AIC:                             2529.\n",
       "Df Residuals:                     116   BIC:                             2534.\n",
       "Df Model:                           1                                         \n",
       "Covariance Type:            nonrobust                                         \n",
       "==============================================================================\n",
       "                 coef    std err          t      P>|t|      [0.025      0.975]\n",
       "------------------------------------------------------------------------------\n",
       "const      -6.481e+04   9470.598     -6.843      0.000   -8.36e+04   -4.61e+04\n",
       "운항(편)        112.3626     10.027     11.206      0.000      92.503     132.222\n",
       "==============================================================================\n",
       "Omnibus:                        5.426   Durbin-Watson:                   0.793\n",
       "Prob(Omnibus):                  0.066   Jarque-Bera (JB):                5.546\n",
       "Skew:                           0.510   Prob(JB):                       0.0625\n",
       "Kurtosis:                       2.705   Cond. No.                     8.99e+03\n",
       "==============================================================================\n",
       "\n",
       "Warnings:\n",
       "[1] Standard Errors assume that the covariance matrix of the errors is correctly specified.\n",
       "[2] The condition number is large, 8.99e+03. This might indicate that there are\n",
       "strong multicollinearity or other numerical problems.\n",
       "\"\"\""
      ]
     },
     "execution_count": 173,
     "metadata": {},
     "output_type": "execute_result"
    }
   ],
   "source": [
    "model2 = sm.OLS(y1,xn1)\n",
    "result2=model2.fit()\n",
    "result2.summary()"
   ]
  },
  {
   "cell_type": "code",
   "execution_count": 180,
   "metadata": {},
   "outputs": [],
   "source": [
    "x1raw = raw.loc['아시아나항공(AAR)']['화물(톤)']\n",
    "x1r = sm.add_constant(x1raw,has_constant='add')\n",
    "x1r = x1r[::-1]\n",
    "x1r = x1r.reset_index()\n",
    "x1r = x1r.drop(labels = 'index', axis = 1)\n",
    "x2 = x1r.drop([x1r.index[20]])\n",
    "x2cv= x2['화물(톤)'].values"
   ]
  },
  {
   "cell_type": "code",
   "execution_count": 181,
   "metadata": {},
   "outputs": [],
   "source": [
    "x1raw = raw.loc['아시아나항공(AAR)']['운항(편)']\n",
    "x1r = sm.add_constant(x1raw,has_constant='add')\n",
    "x1r = x1r[::-1]\n",
    "x1r = x1r.reset_index()\n",
    "x1r = x1r.drop(labels = 'index', axis = 1)\n",
    "xn2 = x1r.drop([x1r.index[20]])\n",
    "xn2cv= xn2['운항(편)'].values"
   ]
  },
  {
   "cell_type": "code",
   "execution_count": 230,
   "metadata": {},
   "outputs": [],
   "source": [
    "yraw2 = pd.read_excel(r'C:\\Users\\com\\[MSB535]\\data\\아시아나주가.xlsx', index_col = 0)\n",
    "ypot = yraw2['Price']\n",
    "y2 = ypot.values\n",
    "y2 = np.delete(y2,20)"
   ]
  },
  {
   "cell_type": "code",
   "execution_count": 189,
   "metadata": {},
   "outputs": [
    {
     "data": {
      "text/plain": [
       "LinearRegression(copy_X=True, fit_intercept=True, n_jobs=None, normalize=False)"
      ]
     },
     "execution_count": 189,
     "metadata": {},
     "output_type": "execute_result"
    }
   ],
   "source": [
    "line2 = LinearRegression()\n",
    "line2.fit(x2cv.reshape(-1,1),y2)"
   ]
  },
  {
   "cell_type": "code",
   "execution_count": 190,
   "metadata": {
    "scrolled": true
   },
   "outputs": [
    {
     "data": {
      "image/png": "[encoded data removed]",
      "text/plain": [
       "<Figure size 432x288 with 1 Axes>"
      ]
     },
     "metadata": {
      "needs_background": "light"
     },
     "output_type": "display_data"
    }
   ],
   "source": [
    "plt.plot(x2cv, y2, 'o',color = '#e35f62')\n",
    "plt.plot(x2cv,line2.predict(x2cv.reshape(-1,1)), color = 'green')\n",
    "plt.title('Asiana Airline Case(Cargo)', fontsize = 15)\n",
    "plt.xlabel('Cargo(tons)', fontsize = 15)\n",
    "plt.ylabel('Stock Price', fontsize = 15)\n",
    "plt.axis([24000,50000,2000,12000])\n",
    "plt.show()"
   ]
  },
  {
   "cell_type": "code",
   "execution_count": 191,
   "metadata": {},
   "outputs": [
    {
     "data": {
      "text/html": [
       "<table class=\"simpletable\">\n",
       "<caption>OLS Regression Results</caption>\n",
       "<tr>\n",
       "  <th>Dep. Variable:</th>            <td>y</td>        <th>  R-squared:         </th> <td>   0.226</td>\n",
       "</tr>\n",
       "<tr>\n",
       "  <th>Model:</th>                   <td>OLS</td>       <th>  Adj. R-squared:    </th> <td>   0.219</td>\n",
       "</tr>\n",
       "<tr>\n",
       "  <th>Method:</th>             <td>Least Squares</td>  <th>  F-statistic:       </th> <td>   34.07</td>\n",
       "</tr>\n",
       "<tr>\n",
       "  <th>Date:</th>             <td>Mon, 16 Nov 2020</td> <th>  Prob (F-statistic):</th> <td>4.85e-08</td>\n",
       "</tr>\n",
       "<tr>\n",
       "  <th>Time:</th>                 <td>23:58:56</td>     <th>  Log-Likelihood:    </th> <td> -1047.0</td>\n",
       "</tr>\n",
       "<tr>\n",
       "  <th>No. Observations:</th>      <td>   119</td>      <th>  AIC:               </th> <td>   2098.</td>\n",
       "</tr>\n",
       "<tr>\n",
       "  <th>Df Residuals:</th>          <td>   117</td>      <th>  BIC:               </th> <td>   2104.</td>\n",
       "</tr>\n",
       "<tr>\n",
       "  <th>Df Model:</th>              <td>     1</td>      <th>                     </th>     <td> </td>   \n",
       "</tr>\n",
       "<tr>\n",
       "  <th>Covariance Type:</th>      <td>nonrobust</td>    <th>                     </th>     <td> </td>   \n",
       "</tr>\n",
       "</table>\n",
       "<table class=\"simpletable\">\n",
       "<tr>\n",
       "    <td></td>       <th>coef</th>     <th>std err</th>      <th>t</th>      <th>P>|t|</th>  <th>[0.025</th>    <th>0.975]</th>  \n",
       "</tr>\n",
       "<tr>\n",
       "  <th>const</th> <td> 1.378e+04</td> <td> 1349.045</td> <td>   10.214</td> <td> 0.000</td> <td> 1.11e+04</td> <td> 1.65e+04</td>\n",
       "</tr>\n",
       "<tr>\n",
       "  <th>화물(톤)</th> <td>   -0.2125</td> <td>    0.036</td> <td>   -5.837</td> <td> 0.000</td> <td>   -0.285</td> <td>   -0.140</td>\n",
       "</tr>\n",
       "</table>\n",
       "<table class=\"simpletable\">\n",
       "<tr>\n",
       "  <th>Omnibus:</th>       <td> 8.865</td> <th>  Durbin-Watson:     </th> <td>   0.350</td>\n",
       "</tr>\n",
       "<tr>\n",
       "  <th>Prob(Omnibus):</th> <td> 0.012</td> <th>  Jarque-Bera (JB):  </th> <td>   9.099</td>\n",
       "</tr>\n",
       "<tr>\n",
       "  <th>Skew:</th>          <td> 0.536</td> <th>  Prob(JB):          </th> <td>  0.0106</td>\n",
       "</tr>\n",
       "<tr>\n",
       "  <th>Kurtosis:</th>      <td> 3.829</td> <th>  Cond. No.          </th> <td>3.37e+05</td>\n",
       "</tr>\n",
       "</table><br/><br/>Warnings:<br/>[1] Standard Errors assume that the covariance matrix of the errors is correctly specified.<br/>[2] The condition number is large, 3.37e+05. This might indicate that there are<br/>strong multicollinearity or other numerical problems."
      ],
      "text/plain": [
       "<class 'statsmodels.iolib.summary.Summary'>\n",
       "\"\"\"\n",
       "                            OLS Regression Results                            \n",
       "==============================================================================\n",
       "Dep. Variable:                      y   R-squared:                       0.226\n",
       "Model:                            OLS   Adj. R-squared:                  0.219\n",
       "Method:                 Least Squares   F-statistic:                     34.07\n",
       "Date:                Mon, 16 Nov 2020   Prob (F-statistic):           4.85e-08\n",
       "Time:                        23:58:56   Log-Likelihood:                -1047.0\n",
       "No. Observations:                 119   AIC:                             2098.\n",
       "Df Residuals:                     117   BIC:                             2104.\n",
       "Df Model:                           1                                         \n",
       "Covariance Type:            nonrobust                                         \n",
       "==============================================================================\n",
       "                 coef    std err          t      P>|t|      [0.025      0.975]\n",
       "------------------------------------------------------------------------------\n",
       "const       1.378e+04   1349.045     10.214      0.000    1.11e+04    1.65e+04\n",
       "화물(톤)         -0.2125      0.036     -5.837      0.000      -0.285      -0.140\n",
       "==============================================================================\n",
       "Omnibus:                        8.865   Durbin-Watson:                   0.350\n",
       "Prob(Omnibus):                  0.012   Jarque-Bera (JB):                9.099\n",
       "Skew:                           0.536   Prob(JB):                       0.0106\n",
       "Kurtosis:                       3.829   Cond. No.                     3.37e+05\n",
       "==============================================================================\n",
       "\n",
       "Warnings:\n",
       "[1] Standard Errors assume that the covariance matrix of the errors is correctly specified.\n",
       "[2] The condition number is large, 3.37e+05. This might indicate that there are\n",
       "strong multicollinearity or other numerical problems.\n",
       "\"\"\""
      ]
     },
     "execution_count": 191,
     "metadata": {},
     "output_type": "execute_result"
    }
   ],
   "source": [
    "model3 = sm.OLS(y2,x2)\n",
    "result3=model3.fit()\n",
    "result3.summary()"
   ]
  },
  {
   "cell_type": "code",
   "execution_count": 192,
   "metadata": {},
   "outputs": [
    {
     "data": {
      "text/plain": [
       "LinearRegression(copy_X=True, fit_intercept=True, n_jobs=None, normalize=False)"
      ]
     },
     "execution_count": 192,
     "metadata": {},
     "output_type": "execute_result"
    }
   ],
   "source": [
    "line12 = LinearRegression()\n",
    "line12.fit(xn2cv.reshape(-1,1),y2)"
   ]
  },
  {
   "cell_type": "code",
   "execution_count": 193,
   "metadata": {},
   "outputs": [
    {
     "data": {
      "image/png": "[encoded data removed]",
      "text/plain": [
       "<Figure size 432x288 with 1 Axes>"
      ]
     },
     "metadata": {
      "needs_background": "light"
     },
     "output_type": "display_data"
    }
   ],
   "source": [
    "plt.plot(xn2cv, y2, 'o',color = '#e35f62')\n",
    "plt.plot(xn2cv,line12.predict(xn2cv.reshape(-1,1)), color = 'green')\n",
    "plt.title('Asiana Airline Case(Cargo)', fontsize = 15)\n",
    "plt.xlabel('Sorties', fontsize = 15)\n",
    "plt.ylabel('Stock Price', fontsize = 15)\n",
    "#plt.axis([24000,50000,2000,12000])\n",
    "plt.show()"
   ]
  },
  {
   "cell_type": "code",
   "execution_count": 194,
   "metadata": {},
   "outputs": [
    {
     "data": {
      "text/html": [
       "<table class=\"simpletable\">\n",
       "<caption>OLS Regression Results</caption>\n",
       "<tr>\n",
       "  <th>Dep. Variable:</th>            <td>y</td>        <th>  R-squared:         </th> <td>   0.192</td>\n",
       "</tr>\n",
       "<tr>\n",
       "  <th>Model:</th>                   <td>OLS</td>       <th>  Adj. R-squared:    </th> <td>   0.185</td>\n",
       "</tr>\n",
       "<tr>\n",
       "  <th>Method:</th>             <td>Least Squares</td>  <th>  F-statistic:       </th> <td>   27.75</td>\n",
       "</tr>\n",
       "<tr>\n",
       "  <th>Date:</th>             <td>Mon, 16 Nov 2020</td> <th>  Prob (F-statistic):</th> <td>6.38e-07</td>\n",
       "</tr>\n",
       "<tr>\n",
       "  <th>Time:</th>                 <td>23:59:24</td>     <th>  Log-Likelihood:    </th> <td> -1049.5</td>\n",
       "</tr>\n",
       "<tr>\n",
       "  <th>No. Observations:</th>      <td>   119</td>      <th>  AIC:               </th> <td>   2103.</td>\n",
       "</tr>\n",
       "<tr>\n",
       "  <th>Df Residuals:</th>          <td>   117</td>      <th>  BIC:               </th> <td>   2109.</td>\n",
       "</tr>\n",
       "<tr>\n",
       "  <th>Df Model:</th>              <td>     1</td>      <th>                     </th>     <td> </td>   \n",
       "</tr>\n",
       "<tr>\n",
       "  <th>Covariance Type:</th>      <td>nonrobust</td>    <th>                     </th>     <td> </td>   \n",
       "</tr>\n",
       "</table>\n",
       "<table class=\"simpletable\">\n",
       "<tr>\n",
       "    <td></td>       <th>coef</th>     <th>std err</th>      <th>t</th>      <th>P>|t|</th>  <th>[0.025</th>    <th>0.975]</th>  \n",
       "</tr>\n",
       "<tr>\n",
       "  <th>const</th> <td> 1.444e+04</td> <td> 1618.566</td> <td>    8.922</td> <td> 0.000</td> <td> 1.12e+04</td> <td> 1.76e+04</td>\n",
       "</tr>\n",
       "<tr>\n",
       "  <th>운항(편)</th> <td>  -15.8552</td> <td>    3.010</td> <td>   -5.267</td> <td> 0.000</td> <td>  -21.817</td> <td>   -9.894</td>\n",
       "</tr>\n",
       "</table>\n",
       "<table class=\"simpletable\">\n",
       "<tr>\n",
       "  <th>Omnibus:</th>       <td> 9.823</td> <th>  Durbin-Watson:     </th> <td>   0.340</td>\n",
       "</tr>\n",
       "<tr>\n",
       "  <th>Prob(Omnibus):</th> <td> 0.007</td> <th>  Jarque-Bera (JB):  </th> <td>  10.085</td>\n",
       "</tr>\n",
       "<tr>\n",
       "  <th>Skew:</th>          <td> 0.593</td> <th>  Prob(JB):          </th> <td> 0.00646</td>\n",
       "</tr>\n",
       "<tr>\n",
       "  <th>Kurtosis:</th>      <td> 3.793</td> <th>  Cond. No.          </th> <td>5.75e+03</td>\n",
       "</tr>\n",
       "</table><br/><br/>Warnings:<br/>[1] Standard Errors assume that the covariance matrix of the errors is correctly specified.<br/>[2] The condition number is large, 5.75e+03. This might indicate that there are<br/>strong multicollinearity or other numerical problems."
      ],
      "text/plain": [
       "<class 'statsmodels.iolib.summary.Summary'>\n",
       "\"\"\"\n",
       "                            OLS Regression Results                            \n",
       "==============================================================================\n",
       "Dep. Variable:                      y   R-squared:                       0.192\n",
       "Model:                            OLS   Adj. R-squared:                  0.185\n",
       "Method:                 Least Squares   F-statistic:                     27.75\n",
       "Date:                Mon, 16 Nov 2020   Prob (F-statistic):           6.38e-07\n",
       "Time:                        23:59:24   Log-Likelihood:                -1049.5\n",
       "No. Observations:                 119   AIC:                             2103.\n",
       "Df Residuals:                     117   BIC:                             2109.\n",
       "Df Model:                           1                                         \n",
       "Covariance Type:            nonrobust                                         \n",
       "==============================================================================\n",
       "                 coef    std err          t      P>|t|      [0.025      0.975]\n",
       "------------------------------------------------------------------------------\n",
       "const       1.444e+04   1618.566      8.922      0.000    1.12e+04    1.76e+04\n",
       "운항(편)        -15.8552      3.010     -5.267      0.000     -21.817      -9.894\n",
       "==============================================================================\n",
       "Omnibus:                        9.823   Durbin-Watson:                   0.340\n",
       "Prob(Omnibus):                  0.007   Jarque-Bera (JB):               10.085\n",
       "Skew:                           0.593   Prob(JB):                      0.00646\n",
       "Kurtosis:                       3.793   Cond. No.                     5.75e+03\n",
       "==============================================================================\n",
       "\n",
       "Warnings:\n",
       "[1] Standard Errors assume that the covariance matrix of the errors is correctly specified.\n",
       "[2] The condition number is large, 5.75e+03. This might indicate that there are\n",
       "strong multicollinearity or other numerical problems.\n",
       "\"\"\""
      ]
     },
     "execution_count": 194,
     "metadata": {},
     "output_type": "execute_result"
    }
   ],
   "source": [
    "model4 = sm.OLS(y2,xn2)\n",
    "result4=model4.fit()\n",
    "result4.summary()"
   ]
  },
  {
   "cell_type": "code",
   "execution_count": 255,
   "metadata": {},
   "outputs": [],
   "source": [
    "x1 = x1cv/np.mean(x1cv)\n",
    "x2 = x2cv/np.mean(x2cv)\n",
    "y1 = y1/np.mean(y1)\n",
    "y2 = y2/np.mean(y2)\n",
    "xcum = np.concatenate([x1,x2], axis = None)\n",
    "yyy = np.concatenate([y1,y2], axis = None)\n",
    "xxx = pd.DataFrame({'화물(톤)' : xcum})\n",
    "xxx = sm.add_constant(xxx,has_constant='add')\n",
    "xxxv = xxx['화물(톤)'].values"
   ]
  },
  {
   "cell_type": "code",
   "execution_count": 256,
   "metadata": {},
   "outputs": [
    {
     "data": {
      "text/plain": [
       "LinearRegression(copy_X=True, fit_intercept=True, n_jobs=None, normalize=False)"
      ]
     },
     "execution_count": 256,
     "metadata": {},
     "output_type": "execute_result"
    }
   ],
   "source": [
    "line14 = LinearRegression()\n",
    "line14.fit(xxxv.reshape(-1,1),yyy)"
   ]
  },
  {
   "cell_type": "code",
   "execution_count": 257,
   "metadata": {},
   "outputs": [
    {
     "data": {
      "text/plain": [
       "Text(0, 0.5, 'Stock Price')"
      ]
     },
     "execution_count": 257,
     "metadata": {},
     "output_type": "execute_result"
    },
    {
     "data": {
      "image/png": "[encoded data removed]",
      "text/plain": [
       "<Figure size 432x288 with 1 Axes>"
      ]
     },
     "metadata": {
      "needs_background": "light"
     },
     "output_type": "display_data"
    }
   ],
   "source": [
    "plt.plot(xxxv, yyy, 'o', c = 'purple')\n",
    "plt.plot(xxxv,line14.predict(xxxv.reshape(-1,1)), color = 'green')\n",
    "plt.title('Cumulative Case(Cargo)', fontsize = 15)\n",
    "plt.xlabel('Cargo(tons)', fontsize = 15)\n",
    "plt.ylabel('Stock Price', fontsize = 15)"
   ]
  },
  {
   "cell_type": "code",
   "execution_count": 258,
   "metadata": {},
   "outputs": [
    {
     "data": {
      "text/html": [
       "<table class=\"simpletable\">\n",
       "<caption>OLS Regression Results</caption>\n",
       "<tr>\n",
       "  <th>Dep. Variable:</th>            <td>y</td>        <th>  R-squared:         </th> <td>   0.058</td>\n",
       "</tr>\n",
       "<tr>\n",
       "  <th>Model:</th>                   <td>OLS</td>       <th>  Adj. R-squared:    </th> <td>   0.054</td>\n",
       "</tr>\n",
       "<tr>\n",
       "  <th>Method:</th>             <td>Least Squares</td>  <th>  F-statistic:       </th> <td>   14.56</td>\n",
       "</tr>\n",
       "<tr>\n",
       "  <th>Date:</th>             <td>Tue, 17 Nov 2020</td> <th>  Prob (F-statistic):</th> <td>0.000174</td>\n",
       "</tr>\n",
       "<tr>\n",
       "  <th>Time:</th>                 <td>00:15:16</td>     <th>  Log-Likelihood:    </th> <td> -76.608</td>\n",
       "</tr>\n",
       "<tr>\n",
       "  <th>No. Observations:</th>      <td>   237</td>      <th>  AIC:               </th> <td>   157.2</td>\n",
       "</tr>\n",
       "<tr>\n",
       "  <th>Df Residuals:</th>          <td>   235</td>      <th>  BIC:               </th> <td>   164.2</td>\n",
       "</tr>\n",
       "<tr>\n",
       "  <th>Df Model:</th>              <td>     1</td>      <th>                     </th>     <td> </td>   \n",
       "</tr>\n",
       "<tr>\n",
       "  <th>Covariance Type:</th>      <td>nonrobust</td>    <th>                     </th>     <td> </td>   \n",
       "</tr>\n",
       "</table>\n",
       "<table class=\"simpletable\">\n",
       "<tr>\n",
       "    <td></td>       <th>coef</th>     <th>std err</th>      <th>t</th>      <th>P>|t|</th>  <th>[0.025</th>    <th>0.975]</th>  \n",
       "</tr>\n",
       "<tr>\n",
       "  <th>const</th> <td>    0.3143</td> <td>    0.181</td> <td>    1.736</td> <td> 0.084</td> <td>   -0.042</td> <td>    0.671</td>\n",
       "</tr>\n",
       "<tr>\n",
       "  <th>화물(톤)</th> <td>    0.6857</td> <td>    0.180</td> <td>    3.815</td> <td> 0.000</td> <td>    0.332</td> <td>    1.040</td>\n",
       "</tr>\n",
       "</table>\n",
       "<table class=\"simpletable\">\n",
       "<tr>\n",
       "  <th>Omnibus:</th>       <td>28.411</td> <th>  Durbin-Watson:     </th> <td>   0.156</td>\n",
       "</tr>\n",
       "<tr>\n",
       "  <th>Prob(Omnibus):</th> <td> 0.000</td> <th>  Jarque-Bera (JB):  </th> <td>  36.284</td>\n",
       "</tr>\n",
       "<tr>\n",
       "  <th>Skew:</th>          <td> 0.957</td> <th>  Prob(JB):          </th> <td>1.32e-08</td>\n",
       "</tr>\n",
       "<tr>\n",
       "  <th>Kurtosis:</th>      <td> 2.880</td> <th>  Cond. No.          </th> <td>    16.5</td>\n",
       "</tr>\n",
       "</table><br/><br/>Warnings:<br/>[1] Standard Errors assume that the covariance matrix of the errors is correctly specified."
      ],
      "text/plain": [
       "<class 'statsmodels.iolib.summary.Summary'>\n",
       "\"\"\"\n",
       "                            OLS Regression Results                            \n",
       "==============================================================================\n",
       "Dep. Variable:                      y   R-squared:                       0.058\n",
       "Model:                            OLS   Adj. R-squared:                  0.054\n",
       "Method:                 Least Squares   F-statistic:                     14.56\n",
       "Date:                Tue, 17 Nov 2020   Prob (F-statistic):           0.000174\n",
       "Time:                        00:15:16   Log-Likelihood:                -76.608\n",
       "No. Observations:                 237   AIC:                             157.2\n",
       "Df Residuals:                     235   BIC:                             164.2\n",
       "Df Model:                           1                                         \n",
       "Covariance Type:            nonrobust                                         \n",
       "==============================================================================\n",
       "                 coef    std err          t      P>|t|      [0.025      0.975]\n",
       "------------------------------------------------------------------------------\n",
       "const          0.3143      0.181      1.736      0.084      -0.042       0.671\n",
       "화물(톤)          0.6857      0.180      3.815      0.000       0.332       1.040\n",
       "==============================================================================\n",
       "Omnibus:                       28.411   Durbin-Watson:                   0.156\n",
       "Prob(Omnibus):                  0.000   Jarque-Bera (JB):               36.284\n",
       "Skew:                           0.957   Prob(JB):                     1.32e-08\n",
       "Kurtosis:                       2.880   Cond. No.                         16.5\n",
       "==============================================================================\n",
       "\n",
       "Warnings:\n",
       "[1] Standard Errors assume that the covariance matrix of the errors is correctly specified.\n",
       "\"\"\""
      ]
     },
     "execution_count": 258,
     "metadata": {},
     "output_type": "execute_result"
    }
   ],
   "source": [
    "model5 = sm.OLS(yyy,xxx)\n",
    "result5=model5.fit()\n",
    "result5.summary()"
   ]
  },
  {
   "cell_type": "code",
   "execution_count": 260,
   "metadata": {},
   "outputs": [],
   "source": [
    "xn1 = xn1cv/np.mean(xn1cv)\n",
    "xn2 = xn2cv/np.mean(xn2cv)\n",
    "xcum = np.concatenate([x1,x2], axis = None)\n",
    "yyy = np.concatenate([y1,y2], axis = None)\n",
    "xxx = pd.DataFrame({'운항(편)' : xcum})\n",
    "xxxn = sm.add_constant(xxx,has_constant='add')\n",
    "xxxnv = xxxn['운항(편)'].values"
   ]
  },
  {
   "cell_type": "code",
   "execution_count": 261,
   "metadata": {},
   "outputs": [
    {
     "name": "stdout",
     "output_type": "stream",
     "text": [
      "237 237\n"
     ]
    }
   ],
   "source": [
    "print(len(xxxn),len(yyy))"
   ]
  },
  {
   "cell_type": "code",
   "execution_count": 263,
   "metadata": {},
   "outputs": [
    {
     "data": {
      "text/plain": [
       "LinearRegression(copy_X=True, fit_intercept=True, n_jobs=None, normalize=False)"
      ]
     },
     "execution_count": 263,
     "metadata": {},
     "output_type": "execute_result"
    }
   ],
   "source": [
    "line13 = LinearRegression()\n",
    "line13.fit(xxxnv.reshape(-1,1),yyy)"
   ]
  },
  {
   "cell_type": "code",
   "execution_count": 264,
   "metadata": {},
   "outputs": [
    {
     "data": {
      "text/plain": [
       "Text(0, 0.5, 'Stock Price')"
      ]
     },
     "execution_count": 264,
     "metadata": {},
     "output_type": "execute_result"
    },
    {
     "data": {
      "image/png": "[encoded data removed]",
      "text/plain": [
       "<Figure size 432x288 with 1 Axes>"
      ]
     },
     "metadata": {
      "needs_background": "light"
     },
     "output_type": "display_data"
    }
   ],
   "source": [
    "plt.plot(xxxnv, yyy, 'o',c = 'purple')\n",
    "plt.plot(xxxnv,line13.predict(xxxnv.reshape(-1,1)), color = 'green')\n",
    "plt.title('Cumulative Case(Cargo)', fontsize = 15)\n",
    "plt.xlabel('Sorties', fontsize = 15)\n",
    "plt.ylabel('Stock Price', fontsize = 15)"
   ]
  },
  {
   "cell_type": "code",
   "execution_count": 266,
   "metadata": {},
   "outputs": [
    {
     "data": {
      "text/html": [
       "<table class=\"simpletable\">\n",
       "<caption>OLS Regression Results</caption>\n",
       "<tr>\n",
       "  <th>Dep. Variable:</th>            <td>y</td>        <th>  R-squared:         </th> <td>   0.058</td>\n",
       "</tr>\n",
       "<tr>\n",
       "  <th>Model:</th>                   <td>OLS</td>       <th>  Adj. R-squared:    </th> <td>   0.054</td>\n",
       "</tr>\n",
       "<tr>\n",
       "  <th>Method:</th>             <td>Least Squares</td>  <th>  F-statistic:       </th> <td>   14.56</td>\n",
       "</tr>\n",
       "<tr>\n",
       "  <th>Date:</th>             <td>Tue, 17 Nov 2020</td> <th>  Prob (F-statistic):</th> <td>0.000174</td>\n",
       "</tr>\n",
       "<tr>\n",
       "  <th>Time:</th>                 <td>00:18:05</td>     <th>  Log-Likelihood:    </th> <td> -76.608</td>\n",
       "</tr>\n",
       "<tr>\n",
       "  <th>No. Observations:</th>      <td>   237</td>      <th>  AIC:               </th> <td>   157.2</td>\n",
       "</tr>\n",
       "<tr>\n",
       "  <th>Df Residuals:</th>          <td>   235</td>      <th>  BIC:               </th> <td>   164.2</td>\n",
       "</tr>\n",
       "<tr>\n",
       "  <th>Df Model:</th>              <td>     1</td>      <th>                     </th>     <td> </td>   \n",
       "</tr>\n",
       "<tr>\n",
       "  <th>Covariance Type:</th>      <td>nonrobust</td>    <th>                     </th>     <td> </td>   \n",
       "</tr>\n",
       "</table>\n",
       "<table class=\"simpletable\">\n",
       "<tr>\n",
       "    <td></td>       <th>coef</th>     <th>std err</th>      <th>t</th>      <th>P>|t|</th>  <th>[0.025</th>    <th>0.975]</th>  \n",
       "</tr>\n",
       "<tr>\n",
       "  <th>const</th> <td>    0.3143</td> <td>    0.181</td> <td>    1.736</td> <td> 0.084</td> <td>   -0.042</td> <td>    0.671</td>\n",
       "</tr>\n",
       "<tr>\n",
       "  <th>운항(편)</th> <td>    0.6857</td> <td>    0.180</td> <td>    3.815</td> <td> 0.000</td> <td>    0.332</td> <td>    1.040</td>\n",
       "</tr>\n",
       "</table>\n",
       "<table class=\"simpletable\">\n",
       "<tr>\n",
       "  <th>Omnibus:</th>       <td>28.411</td> <th>  Durbin-Watson:     </th> <td>   0.156</td>\n",
       "</tr>\n",
       "<tr>\n",
       "  <th>Prob(Omnibus):</th> <td> 0.000</td> <th>  Jarque-Bera (JB):  </th> <td>  36.284</td>\n",
       "</tr>\n",
       "<tr>\n",
       "  <th>Skew:</th>          <td> 0.957</td> <th>  Prob(JB):          </th> <td>1.32e-08</td>\n",
       "</tr>\n",
       "<tr>\n",
       "  <th>Kurtosis:</th>      <td> 2.880</td> <th>  Cond. No.          </th> <td>    16.5</td>\n",
       "</tr>\n",
       "</table><br/><br/>Warnings:<br/>[1] Standard Errors assume that the covariance matrix of the errors is correctly specified."
      ],
      "text/plain": [
       "<class 'statsmodels.iolib.summary.Summary'>\n",
       "\"\"\"\n",
       "                            OLS Regression Results                            \n",
       "==============================================================================\n",
       "Dep. Variable:                      y   R-squared:                       0.058\n",
       "Model:                            OLS   Adj. R-squared:                  0.054\n",
       "Method:                 Least Squares   F-statistic:                     14.56\n",
       "Date:                Tue, 17 Nov 2020   Prob (F-statistic):           0.000174\n",
       "Time:                        00:18:05   Log-Likelihood:                -76.608\n",
       "No. Observations:                 237   AIC:                             157.2\n",
       "Df Residuals:                     235   BIC:                             164.2\n",
       "Df Model:                           1                                         \n",
       "Covariance Type:            nonrobust                                         \n",
       "==============================================================================\n",
       "                 coef    std err          t      P>|t|      [0.025      0.975]\n",
       "------------------------------------------------------------------------------\n",
       "const          0.3143      0.181      1.736      0.084      -0.042       0.671\n",
       "운항(편)          0.6857      0.180      3.815      0.000       0.332       1.040\n",
       "==============================================================================\n",
       "Omnibus:                       28.411   Durbin-Watson:                   0.156\n",
       "Prob(Omnibus):                  0.000   Jarque-Bera (JB):               36.284\n",
       "Skew:                           0.957   Prob(JB):                     1.32e-08\n",
       "Kurtosis:                       2.880   Cond. No.                         16.5\n",
       "==============================================================================\n",
       "\n",
       "Warnings:\n",
       "[1] Standard Errors assume that the covariance matrix of the errors is correctly specified.\n",
       "\"\"\""
      ]
     },
     "execution_count": 266,
     "metadata": {},
     "output_type": "execute_result"
    }
   ],
   "source": [
    "model4 = sm.OLS(yyy,xxxn)\n",
    "result4=model4.fit()\n",
    "result4.summary()"
   ]
  },
  {
   "cell_type": "markdown",
   "metadata": {},
   "source": [
    "### 공급(석)-주가 그래프\n",
    "Source : 국도교통부 항공통계"
   ]
  },
  {
   "cell_type": "code",
   "execution_count": 520,
   "metadata": {},
   "outputs": [],
   "source": [
    "yraw1 = pd.read_excel(r'C:\\Users\\com\\[MSB535]\\data\\대한항공주가.xlsx', index_col = 0)\n",
    "ypot = yraw1['Price']\n",
    "yy1 = ypot.values"
   ]
  },
  {
   "cell_type": "code",
   "execution_count": 521,
   "metadata": {},
   "outputs": [],
   "source": [
    "raw2 = pd.read_excel(r'C:\\Users\\com\\[MSB535]\\data\\여객.xlsx', index_col = 0)"
   ]
  },
  {
   "cell_type": "code",
   "execution_count": 522,
   "metadata": {},
   "outputs": [
    {
     "name": "stderr",
     "output_type": "stream",
     "text": [
      "C:\\Users\\com\\Anaconda3\\lib\\site-packages\\numpy\\core\\fromnumeric.py:2389: FutureWarning: Method .ptp is deprecated and will be removed in a future version. Use numpy.ptp instead.\n",
      "  return ptp(axis=axis, out=out, **kwargs)\n"
     ]
    }
   ],
   "source": [
    "x1raw = raw2.loc['대한항공(KAL)']['여객(명)']\n",
    "x1r = sm.add_constant(x1raw,has_constant='add')\n",
    "x1r = x1r[::-1]\n",
    "x1r = x1r.reset_index()\n",
    "x1r = x1r.drop(labels = 'index', axis = 1)\n",
    "#xx1p = x1r.drop([x1r.index[80]])\n",
    "xx1p = x1r.drop([x1r.index[20],x1r.index[76],x1r.index[83]])\n",
    "xx1pv=  xx1p['여객(명)'].values"
   ]
  },
  {
   "cell_type": "code",
   "execution_count": 523,
   "metadata": {},
   "outputs": [
    {
     "data": {
      "text/plain": [
       "117"
      ]
     },
     "execution_count": 523,
     "metadata": {},
     "output_type": "execute_result"
    }
   ],
   "source": [
    "len(xx1pv)\n",
    "##18년 4월, 13년 1월 자료 없음"
   ]
  },
  {
   "cell_type": "code",
   "execution_count": 524,
   "metadata": {},
   "outputs": [
    {
     "data": {
      "text/plain": [
       "117"
      ]
     },
     "execution_count": 524,
     "metadata": {},
     "output_type": "execute_result"
    }
   ],
   "source": [
    "yy1 = np.delete(y1,20)\n",
    "yy1 = np.delete(yy1,75)\n",
    "yy1 = np.delete(yy1,81)\n",
    "len(yy1)"
   ]
  },
  {
   "cell_type": "code",
   "execution_count": 525,
   "metadata": {},
   "outputs": [
    {
     "data": {
      "text/plain": [
       "LinearRegression(copy_X=True, fit_intercept=True, n_jobs=None, normalize=False)"
      ]
     },
     "execution_count": 525,
     "metadata": {},
     "output_type": "execute_result"
    }
   ],
   "source": [
    "line3 = LinearRegression()\n",
    "line3.fit(xx1pv.reshape(-1,1),yy1)"
   ]
  },
  {
   "cell_type": "code",
   "execution_count": 526,
   "metadata": {},
   "outputs": [
    {
     "data": {
      "text/plain": [
       "Text(0.5, 1.0, 'Korean Airline Case(Passenger)')"
      ]
     },
     "execution_count": 526,
     "metadata": {},
     "output_type": "execute_result"
    },
    {
     "data": {
      "image/png": "[encoded data removed]",
      "text/plain": [
       "<Figure size 432x288 with 1 Axes>"
      ]
     },
     "metadata": {
      "needs_background": "light"
     },
     "output_type": "display_data"
    }
   ],
   "source": [
    "plt.plot(xx1pv, yy1, 'o')\n",
    "plt.plot(xx1pv,line3.predict(xx1pv.reshape(-1,1)), color = 'green')\n",
    "plt.xlabel('Seats Number', fontsize = 15)\n",
    "plt.ylabel('Stock Price', fontsize = 15)\n",
    "plt.title('Korean Airline Case(Passenger)', fontsize = 15)\n",
    "#plt.axis([1200000, 2200000,10000,100000])"
   ]
  },
  {
   "cell_type": "code",
   "execution_count": 527,
   "metadata": {},
   "outputs": [
    {
     "data": {
      "text/html": [
       "<table class=\"simpletable\">\n",
       "<caption>OLS Regression Results</caption>\n",
       "<tr>\n",
       "  <th>Dep. Variable:</th>            <td>y</td>        <th>  R-squared:         </th> <td>   0.127</td>\n",
       "</tr>\n",
       "<tr>\n",
       "  <th>Model:</th>                   <td>OLS</td>       <th>  Adj. R-squared:    </th> <td>   0.119</td>\n",
       "</tr>\n",
       "<tr>\n",
       "  <th>Method:</th>             <td>Least Squares</td>  <th>  F-statistic:       </th> <td>   16.67</td>\n",
       "</tr>\n",
       "<tr>\n",
       "  <th>Date:</th>             <td>Tue, 17 Nov 2020</td> <th>  Prob (F-statistic):</th> <td>8.24e-05</td>\n",
       "</tr>\n",
       "<tr>\n",
       "  <th>Time:</th>                 <td>00:56:11</td>     <th>  Log-Likelihood:    </th> <td> -1287.1</td>\n",
       "</tr>\n",
       "<tr>\n",
       "  <th>No. Observations:</th>      <td>   117</td>      <th>  AIC:               </th> <td>   2578.</td>\n",
       "</tr>\n",
       "<tr>\n",
       "  <th>Df Residuals:</th>          <td>   115</td>      <th>  BIC:               </th> <td>   2584.</td>\n",
       "</tr>\n",
       "<tr>\n",
       "  <th>Df Model:</th>              <td>     1</td>      <th>                     </th>     <td> </td>   \n",
       "</tr>\n",
       "<tr>\n",
       "  <th>Covariance Type:</th>      <td>nonrobust</td>    <th>                     </th>     <td> </td>   \n",
       "</tr>\n",
       "</table>\n",
       "<table class=\"simpletable\">\n",
       "<tr>\n",
       "    <td></td>       <th>coef</th>     <th>std err</th>      <th>t</th>      <th>P>|t|</th>  <th>[0.025</th>    <th>0.975]</th>  \n",
       "</tr>\n",
       "<tr>\n",
       "  <th>const</th> <td> 9.091e+04</td> <td> 1.24e+04</td> <td>    7.346</td> <td> 0.000</td> <td> 6.64e+04</td> <td> 1.15e+05</td>\n",
       "</tr>\n",
       "<tr>\n",
       "  <th>여객(명)</th> <td>   -0.0284</td> <td>    0.007</td> <td>   -4.083</td> <td> 0.000</td> <td>   -0.042</td> <td>   -0.015</td>\n",
       "</tr>\n",
       "</table>\n",
       "<table class=\"simpletable\">\n",
       "<tr>\n",
       "  <th>Omnibus:</th>       <td>22.507</td> <th>  Durbin-Watson:     </th> <td>   0.161</td>\n",
       "</tr>\n",
       "<tr>\n",
       "  <th>Prob(Omnibus):</th> <td> 0.000</td> <th>  Jarque-Bera (JB):  </th> <td>  28.363</td>\n",
       "</tr>\n",
       "<tr>\n",
       "  <th>Skew:</th>          <td> 1.160</td> <th>  Prob(JB):          </th> <td>6.93e-07</td>\n",
       "</tr>\n",
       "<tr>\n",
       "  <th>Kurtosis:</th>      <td> 3.659</td> <th>  Cond. No.          </th> <td>1.63e+07</td>\n",
       "</tr>\n",
       "</table><br/><br/>Warnings:<br/>[1] Standard Errors assume that the covariance matrix of the errors is correctly specified.<br/>[2] The condition number is large, 1.63e+07. This might indicate that there are<br/>strong multicollinearity or other numerical problems."
      ],
      "text/plain": [
       "<class 'statsmodels.iolib.summary.Summary'>\n",
       "\"\"\"\n",
       "                            OLS Regression Results                            \n",
       "==============================================================================\n",
       "Dep. Variable:                      y   R-squared:                       0.127\n",
       "Model:                            OLS   Adj. R-squared:                  0.119\n",
       "Method:                 Least Squares   F-statistic:                     16.67\n",
       "Date:                Tue, 17 Nov 2020   Prob (F-statistic):           8.24e-05\n",
       "Time:                        00:56:11   Log-Likelihood:                -1287.1\n",
       "No. Observations:                 117   AIC:                             2578.\n",
       "Df Residuals:                     115   BIC:                             2584.\n",
       "Df Model:                           1                                         \n",
       "Covariance Type:            nonrobust                                         \n",
       "==============================================================================\n",
       "                 coef    std err          t      P>|t|      [0.025      0.975]\n",
       "------------------------------------------------------------------------------\n",
       "const       9.091e+04   1.24e+04      7.346      0.000    6.64e+04    1.15e+05\n",
       "여객(명)         -0.0284      0.007     -4.083      0.000      -0.042      -0.015\n",
       "==============================================================================\n",
       "Omnibus:                       22.507   Durbin-Watson:                   0.161\n",
       "Prob(Omnibus):                  0.000   Jarque-Bera (JB):               28.363\n",
       "Skew:                           1.160   Prob(JB):                     6.93e-07\n",
       "Kurtosis:                       3.659   Cond. No.                     1.63e+07\n",
       "==============================================================================\n",
       "\n",
       "Warnings:\n",
       "[1] Standard Errors assume that the covariance matrix of the errors is correctly specified.\n",
       "[2] The condition number is large, 1.63e+07. This might indicate that there are\n",
       "strong multicollinearity or other numerical problems.\n",
       "\"\"\""
      ]
     },
     "execution_count": 527,
     "metadata": {},
     "output_type": "execute_result"
    }
   ],
   "source": [
    "model5 = sm.OLS(yy1,xx1p)\n",
    "result5=model5.fit()\n",
    "result5.summary()"
   ]
  },
  {
   "cell_type": "code",
   "execution_count": 528,
   "metadata": {},
   "outputs": [
    {
     "name": "stderr",
     "output_type": "stream",
     "text": [
      "C:\\Users\\com\\Anaconda3\\lib\\site-packages\\numpy\\core\\fromnumeric.py:2389: FutureWarning: Method .ptp is deprecated and will be removed in a future version. Use numpy.ptp instead.\n",
      "  return ptp(axis=axis, out=out, **kwargs)\n"
     ]
    }
   ],
   "source": [
    "x1raw = raw2.loc['대한항공(KAL)']['운항(편)']\n",
    "x1r = sm.add_constant(x1raw,has_constant='add')\n",
    "x1r = x1r[::-1]\n",
    "x1r = x1r.reset_index()\n",
    "x1r = x1r.drop(labels = 'index', axis = 1)\n",
    "xxn1p = x1r.drop([x1r.index[20],x1r.index[76],x1r.index[83]])\n",
    "xxn1pv=  xxn1p['운항(편)'].values"
   ]
  },
  {
   "cell_type": "code",
   "execution_count": 529,
   "metadata": {},
   "outputs": [],
   "source": [
    "yraw1 = pd.read_excel(r'C:\\Users\\com\\[MSB535]\\data\\대한항공주가.xlsx', index_col = 0)\n",
    "ypot = yraw1['Price']\n",
    "y1 = ypot.values"
   ]
  },
  {
   "cell_type": "code",
   "execution_count": 530,
   "metadata": {},
   "outputs": [
    {
     "data": {
      "text/plain": [
       "LinearRegression(copy_X=True, fit_intercept=True, n_jobs=None, normalize=False)"
      ]
     },
     "execution_count": 530,
     "metadata": {},
     "output_type": "execute_result"
    }
   ],
   "source": [
    "line15 = LinearRegression()\n",
    "line15.fit(xxn1pv.reshape(-1,1),yy1)"
   ]
  },
  {
   "cell_type": "code",
   "execution_count": 531,
   "metadata": {},
   "outputs": [
    {
     "data": {
      "text/plain": [
       "Text(0.5, 1.0, 'Korean Airline Case(Passenger)')"
      ]
     },
     "execution_count": 531,
     "metadata": {},
     "output_type": "execute_result"
    },
    {
     "data": {
      "image/png": "[encoded data removed]",
      "text/plain": [
       "<Figure size 432x288 with 1 Axes>"
      ]
     },
     "metadata": {
      "needs_background": "light"
     },
     "output_type": "display_data"
    }
   ],
   "source": [
    "plt.plot(xxn1pv, yy1, 'o')\n",
    "plt.plot(xxn1pv,line15.predict(xxn1pv.reshape(-1,1)), color = 'green')\n",
    "plt.xlabel('Sorties', fontsize = 15)\n",
    "plt.ylabel('Stock Price', fontsize = 15)\n",
    "plt.title('Korean Airline Case(Passenger)', fontsize = 15)"
   ]
  },
  {
   "cell_type": "code",
   "execution_count": 532,
   "metadata": {},
   "outputs": [
    {
     "data": {
      "text/html": [
       "<table class=\"simpletable\">\n",
       "<caption>OLS Regression Results</caption>\n",
       "<tr>\n",
       "  <th>Dep. Variable:</th>            <td>y</td>        <th>  R-squared:         </th> <td>   0.357</td>\n",
       "</tr>\n",
       "<tr>\n",
       "  <th>Model:</th>                   <td>OLS</td>       <th>  Adj. R-squared:    </th> <td>   0.352</td>\n",
       "</tr>\n",
       "<tr>\n",
       "  <th>Method:</th>             <td>Least Squares</td>  <th>  F-statistic:       </th> <td>   63.97</td>\n",
       "</tr>\n",
       "<tr>\n",
       "  <th>Date:</th>             <td>Tue, 17 Nov 2020</td> <th>  Prob (F-statistic):</th> <td>1.10e-12</td>\n",
       "</tr>\n",
       "<tr>\n",
       "  <th>Time:</th>                 <td>00:56:13</td>     <th>  Log-Likelihood:    </th> <td> -1269.1</td>\n",
       "</tr>\n",
       "<tr>\n",
       "  <th>No. Observations:</th>      <td>   117</td>      <th>  AIC:               </th> <td>   2542.</td>\n",
       "</tr>\n",
       "<tr>\n",
       "  <th>Df Residuals:</th>          <td>   115</td>      <th>  BIC:               </th> <td>   2548.</td>\n",
       "</tr>\n",
       "<tr>\n",
       "  <th>Df Model:</th>              <td>     1</td>      <th>                     </th>     <td> </td>   \n",
       "</tr>\n",
       "<tr>\n",
       "  <th>Covariance Type:</th>      <td>nonrobust</td>    <th>                     </th>     <td> </td>   \n",
       "</tr>\n",
       "</table>\n",
       "<table class=\"simpletable\">\n",
       "<tr>\n",
       "    <td></td>       <th>coef</th>     <th>std err</th>      <th>t</th>      <th>P>|t|</th>  <th>[0.025</th>    <th>0.975]</th>  \n",
       "</tr>\n",
       "<tr>\n",
       "  <th>const</th> <td> 2.086e+05</td> <td>  2.1e+04</td> <td>    9.921</td> <td> 0.000</td> <td> 1.67e+05</td> <td>  2.5e+05</td>\n",
       "</tr>\n",
       "<tr>\n",
       "  <th>운항(편)</th> <td>  -13.9026</td> <td>    1.738</td> <td>   -7.998</td> <td> 0.000</td> <td>  -17.346</td> <td>  -10.460</td>\n",
       "</tr>\n",
       "</table>\n",
       "<table class=\"simpletable\">\n",
       "<tr>\n",
       "  <th>Omnibus:</th>       <td> 4.915</td> <th>  Durbin-Watson:     </th> <td>   0.630</td>\n",
       "</tr>\n",
       "<tr>\n",
       "  <th>Prob(Omnibus):</th> <td> 0.086</td> <th>  Jarque-Bera (JB):  </th> <td>   4.850</td>\n",
       "</tr>\n",
       "<tr>\n",
       "  <th>Skew:</th>          <td> 0.497</td> <th>  Prob(JB):          </th> <td>  0.0885</td>\n",
       "</tr>\n",
       "<tr>\n",
       "  <th>Kurtosis:</th>      <td> 2.926</td> <th>  Cond. No.          </th> <td>2.19e+05</td>\n",
       "</tr>\n",
       "</table><br/><br/>Warnings:<br/>[1] Standard Errors assume that the covariance matrix of the errors is correctly specified.<br/>[2] The condition number is large, 2.19e+05. This might indicate that there are<br/>strong multicollinearity or other numerical problems."
      ],
      "text/plain": [
       "<class 'statsmodels.iolib.summary.Summary'>\n",
       "\"\"\"\n",
       "                            OLS Regression Results                            \n",
       "==============================================================================\n",
       "Dep. Variable:                      y   R-squared:                       0.357\n",
       "Model:                            OLS   Adj. R-squared:                  0.352\n",
       "Method:                 Least Squares   F-statistic:                     63.97\n",
       "Date:                Tue, 17 Nov 2020   Prob (F-statistic):           1.10e-12\n",
       "Time:                        00:56:13   Log-Likelihood:                -1269.1\n",
       "No. Observations:                 117   AIC:                             2542.\n",
       "Df Residuals:                     115   BIC:                             2548.\n",
       "Df Model:                           1                                         \n",
       "Covariance Type:            nonrobust                                         \n",
       "==============================================================================\n",
       "                 coef    std err          t      P>|t|      [0.025      0.975]\n",
       "------------------------------------------------------------------------------\n",
       "const       2.086e+05    2.1e+04      9.921      0.000    1.67e+05     2.5e+05\n",
       "운항(편)        -13.9026      1.738     -7.998      0.000     -17.346     -10.460\n",
       "==============================================================================\n",
       "Omnibus:                        4.915   Durbin-Watson:                   0.630\n",
       "Prob(Omnibus):                  0.086   Jarque-Bera (JB):                4.850\n",
       "Skew:                           0.497   Prob(JB):                       0.0885\n",
       "Kurtosis:                       2.926   Cond. No.                     2.19e+05\n",
       "==============================================================================\n",
       "\n",
       "Warnings:\n",
       "[1] Standard Errors assume that the covariance matrix of the errors is correctly specified.\n",
       "[2] The condition number is large, 2.19e+05. This might indicate that there are\n",
       "strong multicollinearity or other numerical problems.\n",
       "\"\"\""
      ]
     },
     "execution_count": 532,
     "metadata": {},
     "output_type": "execute_result"
    }
   ],
   "source": [
    "model6 = sm.OLS(yy1,xxn1p)\n",
    "result6=model6.fit()\n",
    "result6.summary()"
   ]
  },
  {
   "cell_type": "code",
   "execution_count": 533,
   "metadata": {
    "scrolled": true
   },
   "outputs": [],
   "source": [
    "xx2raw = raw2.loc['아시아나항공(AAR)']['여객(명)']\n",
    "xx2 = xx2raw.values\n",
    "xx2 = np.flip(xx2)\n",
    "##18년 4월, 13년 1월 자료 없음"
   ]
  },
  {
   "cell_type": "code",
   "execution_count": 534,
   "metadata": {},
   "outputs": [
    {
     "name": "stderr",
     "output_type": "stream",
     "text": [
      "C:\\Users\\com\\Anaconda3\\lib\\site-packages\\numpy\\core\\fromnumeric.py:2389: FutureWarning: Method .ptp is deprecated and will be removed in a future version. Use numpy.ptp instead.\n",
      "  return ptp(axis=axis, out=out, **kwargs)\n"
     ]
    }
   ],
   "source": [
    "x1raw = raw2.loc['아시아나항공(AAR)']['여객(명)']\n",
    "x1r = sm.add_constant(x1raw,has_constant='add')\n",
    "x1r = x1r[::-1]\n",
    "x1r = x1r.reset_index()\n",
    "x1r = x1r.drop(labels = 'index', axis = 1)\n",
    "xx2p = x1r.drop([x1r.index[20],x1r.index[83]])\n",
    "xx2pv=  xx2p['여객(명)'].values"
   ]
  },
  {
   "cell_type": "code",
   "execution_count": 535,
   "metadata": {},
   "outputs": [],
   "source": [
    "yraw2 = pd.read_excel(r'C:\\Users\\com\\[MSB535]\\data\\아시아나주가.xlsx', index_col = 0)\n",
    "y2raw = yraw2['Price']\n",
    "yy2 = y2raw.values"
   ]
  },
  {
   "cell_type": "code",
   "execution_count": 536,
   "metadata": {},
   "outputs": [
    {
     "name": "stdout",
     "output_type": "stream",
     "text": [
      "(array([], dtype=int64),)\n"
     ]
    }
   ],
   "source": [
    "b = np.where(0==y2raw)\n",
    "print(b)"
   ]
  },
  {
   "cell_type": "code",
   "execution_count": 537,
   "metadata": {},
   "outputs": [],
   "source": [
    "yy2 = np.delete(yy2,20)\n",
    "yy2 = np.delete(yy2,82)"
   ]
  },
  {
   "cell_type": "code",
   "execution_count": 538,
   "metadata": {},
   "outputs": [
    {
     "data": {
      "text/plain": [
       "LinearRegression(copy_X=True, fit_intercept=True, n_jobs=None, normalize=False)"
      ]
     },
     "execution_count": 538,
     "metadata": {},
     "output_type": "execute_result"
    }
   ],
   "source": [
    "line4 = LinearRegression()\n",
    "line4.fit(xx2pv.reshape(-1,1),yy2)"
   ]
  },
  {
   "cell_type": "code",
   "execution_count": 539,
   "metadata": {},
   "outputs": [
    {
     "data": {
      "text/plain": [
       "[900000, 1700000, 2000, 13000]"
      ]
     },
     "execution_count": 539,
     "metadata": {},
     "output_type": "execute_result"
    },
    {
     "data": {
      "image/png": "[encoded data removed]",
      "text/plain": [
       "<Figure size 432x288 with 1 Axes>"
      ]
     },
     "metadata": {
      "needs_background": "light"
     },
     "output_type": "display_data"
    }
   ],
   "source": [
    "plt.plot(xx2pv, yy2, 'o',color = '#e35f62')\n",
    "plt.plot(xx2pv,line4.predict(xx2pv.reshape(-1,1)), color = 'green')\n",
    "plt.xlabel('Seats Number', fontsize = 15)\n",
    "plt.ylabel('Stock Price', fontsize = 15)\n",
    "plt.title('Asiana Airline Case(Passenger)', fontsize = 15)\n",
    "plt.axis([900000,1700000,2000,13000])"
   ]
  },
  {
   "cell_type": "code",
   "execution_count": 540,
   "metadata": {},
   "outputs": [
    {
     "data": {
      "text/html": [
       "<table class=\"simpletable\">\n",
       "<caption>OLS Regression Results</caption>\n",
       "<tr>\n",
       "  <th>Dep. Variable:</th>            <td>y</td>        <th>  R-squared:         </th> <td>   0.275</td>\n",
       "</tr>\n",
       "<tr>\n",
       "  <th>Model:</th>                   <td>OLS</td>       <th>  Adj. R-squared:    </th> <td>   0.268</td>\n",
       "</tr>\n",
       "<tr>\n",
       "  <th>Method:</th>             <td>Least Squares</td>  <th>  F-statistic:       </th> <td>   43.91</td>\n",
       "</tr>\n",
       "<tr>\n",
       "  <th>Date:</th>             <td>Tue, 17 Nov 2020</td> <th>  Prob (F-statistic):</th> <td>1.13e-09</td>\n",
       "</tr>\n",
       "<tr>\n",
       "  <th>Time:</th>                 <td>00:56:24</td>     <th>  Log-Likelihood:    </th> <td> -1034.8</td>\n",
       "</tr>\n",
       "<tr>\n",
       "  <th>No. Observations:</th>      <td>   118</td>      <th>  AIC:               </th> <td>   2074.</td>\n",
       "</tr>\n",
       "<tr>\n",
       "  <th>Df Residuals:</th>          <td>   116</td>      <th>  BIC:               </th> <td>   2079.</td>\n",
       "</tr>\n",
       "<tr>\n",
       "  <th>Df Model:</th>              <td>     1</td>      <th>                     </th>     <td> </td>   \n",
       "</tr>\n",
       "<tr>\n",
       "  <th>Covariance Type:</th>      <td>nonrobust</td>    <th>                     </th>     <td> </td>   \n",
       "</tr>\n",
       "</table>\n",
       "<table class=\"simpletable\">\n",
       "<tr>\n",
       "    <td></td>       <th>coef</th>     <th>std err</th>      <th>t</th>      <th>P>|t|</th>  <th>[0.025</th>    <th>0.975]</th>  \n",
       "</tr>\n",
       "<tr>\n",
       "  <th>const</th> <td> 1.395e+04</td> <td> 1215.673</td> <td>   11.475</td> <td> 0.000</td> <td> 1.15e+04</td> <td> 1.64e+04</td>\n",
       "</tr>\n",
       "<tr>\n",
       "  <th>여객(명)</th> <td>   -0.0060</td> <td>    0.001</td> <td>   -6.626</td> <td> 0.000</td> <td>   -0.008</td> <td>   -0.004</td>\n",
       "</tr>\n",
       "</table>\n",
       "<table class=\"simpletable\">\n",
       "<tr>\n",
       "  <th>Omnibus:</th>       <td> 6.166</td> <th>  Durbin-Watson:     </th> <td>   0.406</td>\n",
       "</tr>\n",
       "<tr>\n",
       "  <th>Prob(Omnibus):</th> <td> 0.046</td> <th>  Jarque-Bera (JB):  </th> <td>   5.939</td>\n",
       "</tr>\n",
       "<tr>\n",
       "  <th>Skew:</th>          <td> 0.547</td> <th>  Prob(JB):          </th> <td>  0.0513</td>\n",
       "</tr>\n",
       "<tr>\n",
       "  <th>Kurtosis:</th>      <td> 3.108</td> <th>  Cond. No.          </th> <td>1.12e+07</td>\n",
       "</tr>\n",
       "</table><br/><br/>Warnings:<br/>[1] Standard Errors assume that the covariance matrix of the errors is correctly specified.<br/>[2] The condition number is large, 1.12e+07. This might indicate that there are<br/>strong multicollinearity or other numerical problems."
      ],
      "text/plain": [
       "<class 'statsmodels.iolib.summary.Summary'>\n",
       "\"\"\"\n",
       "                            OLS Regression Results                            \n",
       "==============================================================================\n",
       "Dep. Variable:                      y   R-squared:                       0.275\n",
       "Model:                            OLS   Adj. R-squared:                  0.268\n",
       "Method:                 Least Squares   F-statistic:                     43.91\n",
       "Date:                Tue, 17 Nov 2020   Prob (F-statistic):           1.13e-09\n",
       "Time:                        00:56:24   Log-Likelihood:                -1034.8\n",
       "No. Observations:                 118   AIC:                             2074.\n",
       "Df Residuals:                     116   BIC:                             2079.\n",
       "Df Model:                           1                                         \n",
       "Covariance Type:            nonrobust                                         \n",
       "==============================================================================\n",
       "                 coef    std err          t      P>|t|      [0.025      0.975]\n",
       "------------------------------------------------------------------------------\n",
       "const       1.395e+04   1215.673     11.475      0.000    1.15e+04    1.64e+04\n",
       "여객(명)         -0.0060      0.001     -6.626      0.000      -0.008      -0.004\n",
       "==============================================================================\n",
       "Omnibus:                        6.166   Durbin-Watson:                   0.406\n",
       "Prob(Omnibus):                  0.046   Jarque-Bera (JB):                5.939\n",
       "Skew:                           0.547   Prob(JB):                       0.0513\n",
       "Kurtosis:                       3.108   Cond. No.                     1.12e+07\n",
       "==============================================================================\n",
       "\n",
       "Warnings:\n",
       "[1] Standard Errors assume that the covariance matrix of the errors is correctly specified.\n",
       "[2] The condition number is large, 1.12e+07. This might indicate that there are\n",
       "strong multicollinearity or other numerical problems.\n",
       "\"\"\""
      ]
     },
     "execution_count": 540,
     "metadata": {},
     "output_type": "execute_result"
    }
   ],
   "source": [
    "model7 = sm.OLS(yy2,xx2p)\n",
    "result7=model7.fit()\n",
    "result7.summary()"
   ]
  },
  {
   "cell_type": "code",
   "execution_count": 541,
   "metadata": {},
   "outputs": [
    {
     "name": "stderr",
     "output_type": "stream",
     "text": [
      "C:\\Users\\com\\Anaconda3\\lib\\site-packages\\numpy\\core\\fromnumeric.py:2389: FutureWarning: Method .ptp is deprecated and will be removed in a future version. Use numpy.ptp instead.\n",
      "  return ptp(axis=axis, out=out, **kwargs)\n"
     ]
    }
   ],
   "source": [
    "x1raw = raw2.loc['아시아나항공(AAR)']['운항(편)']\n",
    "x1r = sm.add_constant(x1raw,has_constant='add')\n",
    "x1r = x1r[::-1]\n",
    "x1r = x1r.reset_index()\n",
    "x1r = x1r.drop(labels = 'index', axis = 1)\n",
    "xxn2p = x1r.drop([x1r.index[20],x1r.index[83]])\n",
    "xxn2pv=  xxn2p['운항(편)'].values"
   ]
  },
  {
   "cell_type": "code",
   "execution_count": 542,
   "metadata": {},
   "outputs": [
    {
     "data": {
      "text/plain": [
       "118"
      ]
     },
     "execution_count": 542,
     "metadata": {},
     "output_type": "execute_result"
    }
   ],
   "source": [
    "len(xxn2pv)"
   ]
  },
  {
   "cell_type": "code",
   "execution_count": 543,
   "metadata": {},
   "outputs": [
    {
     "data": {
      "text/plain": [
       "118"
      ]
     },
     "execution_count": 543,
     "metadata": {},
     "output_type": "execute_result"
    }
   ],
   "source": [
    "len(yy2)"
   ]
  },
  {
   "cell_type": "code",
   "execution_count": 544,
   "metadata": {},
   "outputs": [
    {
     "data": {
      "text/plain": [
       "LinearRegression(copy_X=True, fit_intercept=True, n_jobs=None, normalize=False)"
      ]
     },
     "execution_count": 544,
     "metadata": {},
     "output_type": "execute_result"
    }
   ],
   "source": [
    "line6 = LinearRegression()\n",
    "line6.fit(xxn2pv.reshape(-1,1),yy2)"
   ]
  },
  {
   "cell_type": "code",
   "execution_count": 545,
   "metadata": {},
   "outputs": [
    {
     "data": {
      "text/plain": [
       "Text(0.5, 1.0, 'Asiana Airline Case(Passenger)')"
      ]
     },
     "execution_count": 545,
     "metadata": {},
     "output_type": "execute_result"
    },
    {
     "data": {
      "image/png": "[encoded data removed]",
      "text/plain": [
       "<Figure size 432x288 with 1 Axes>"
      ]
     },
     "metadata": {
      "needs_background": "light"
     },
     "output_type": "display_data"
    }
   ],
   "source": [
    "plt.plot(xxn2pv, yy2, 'o',color = '#e35f62')\n",
    "plt.plot(xxn2pv,line6.predict(xxn2pv.reshape(-1,1)), color = 'green')\n",
    "plt.xlabel('Sorties', fontsize = 15)\n",
    "plt.ylabel('Stock Price', fontsize = 15)\n",
    "plt.title('Asiana Airline Case(Passenger)', fontsize = 15)"
   ]
  },
  {
   "cell_type": "code",
   "execution_count": 546,
   "metadata": {},
   "outputs": [
    {
     "data": {
      "text/html": [
       "<table class=\"simpletable\">\n",
       "<caption>OLS Regression Results</caption>\n",
       "<tr>\n",
       "  <th>Dep. Variable:</th>            <td>y</td>        <th>  R-squared:         </th> <td>   0.094</td>\n",
       "</tr>\n",
       "<tr>\n",
       "  <th>Model:</th>                   <td>OLS</td>       <th>  Adj. R-squared:    </th> <td>   0.086</td>\n",
       "</tr>\n",
       "<tr>\n",
       "  <th>Method:</th>             <td>Least Squares</td>  <th>  F-statistic:       </th> <td>   11.97</td>\n",
       "</tr>\n",
       "<tr>\n",
       "  <th>Date:</th>             <td>Tue, 17 Nov 2020</td> <th>  Prob (F-statistic):</th> <td>0.000757</td>\n",
       "</tr>\n",
       "<tr>\n",
       "  <th>Time:</th>                 <td>00:56:26</td>     <th>  Log-Likelihood:    </th> <td> -1048.0</td>\n",
       "</tr>\n",
       "<tr>\n",
       "  <th>No. Observations:</th>      <td>   118</td>      <th>  AIC:               </th> <td>   2100.</td>\n",
       "</tr>\n",
       "<tr>\n",
       "  <th>Df Residuals:</th>          <td>   116</td>      <th>  BIC:               </th> <td>   2105.</td>\n",
       "</tr>\n",
       "<tr>\n",
       "  <th>Df Model:</th>              <td>     1</td>      <th>                     </th>     <td> </td>   \n",
       "</tr>\n",
       "<tr>\n",
       "  <th>Covariance Type:</th>      <td>nonrobust</td>    <th>                     </th>     <td> </td>   \n",
       "</tr>\n",
       "</table>\n",
       "<table class=\"simpletable\">\n",
       "<tr>\n",
       "    <td></td>       <th>coef</th>     <th>std err</th>      <th>t</th>      <th>P>|t|</th>  <th>[0.025</th>    <th>0.975]</th>  \n",
       "</tr>\n",
       "<tr>\n",
       "  <th>const</th> <td> 1.664e+04</td> <td> 3092.947</td> <td>    5.379</td> <td> 0.000</td> <td> 1.05e+04</td> <td> 2.28e+04</td>\n",
       "</tr>\n",
       "<tr>\n",
       "  <th>운항(편)</th> <td>   -1.2627</td> <td>    0.365</td> <td>   -3.460</td> <td> 0.001</td> <td>   -1.986</td> <td>   -0.540</td>\n",
       "</tr>\n",
       "</table>\n",
       "<table class=\"simpletable\">\n",
       "<tr>\n",
       "  <th>Omnibus:</th>       <td> 9.405</td> <th>  Durbin-Watson:     </th> <td>   0.265</td>\n",
       "</tr>\n",
       "<tr>\n",
       "  <th>Prob(Omnibus):</th> <td> 0.009</td> <th>  Jarque-Bera (JB):  </th> <td>   9.822</td>\n",
       "</tr>\n",
       "<tr>\n",
       "  <th>Skew:</th>          <td> 0.706</td> <th>  Prob(JB):          </th> <td> 0.00736</td>\n",
       "</tr>\n",
       "<tr>\n",
       "  <th>Kurtosis:</th>      <td> 3.070</td> <th>  Cond. No.          </th> <td>1.62e+05</td>\n",
       "</tr>\n",
       "</table><br/><br/>Warnings:<br/>[1] Standard Errors assume that the covariance matrix of the errors is correctly specified.<br/>[2] The condition number is large, 1.62e+05. This might indicate that there are<br/>strong multicollinearity or other numerical problems."
      ],
      "text/plain": [
       "<class 'statsmodels.iolib.summary.Summary'>\n",
       "\"\"\"\n",
       "                            OLS Regression Results                            \n",
       "==============================================================================\n",
       "Dep. Variable:                      y   R-squared:                       0.094\n",
       "Model:                            OLS   Adj. R-squared:                  0.086\n",
       "Method:                 Least Squares   F-statistic:                     11.97\n",
       "Date:                Tue, 17 Nov 2020   Prob (F-statistic):           0.000757\n",
       "Time:                        00:56:26   Log-Likelihood:                -1048.0\n",
       "No. Observations:                 118   AIC:                             2100.\n",
       "Df Residuals:                     116   BIC:                             2105.\n",
       "Df Model:                           1                                         \n",
       "Covariance Type:            nonrobust                                         \n",
       "==============================================================================\n",
       "                 coef    std err          t      P>|t|      [0.025      0.975]\n",
       "------------------------------------------------------------------------------\n",
       "const       1.664e+04   3092.947      5.379      0.000    1.05e+04    2.28e+04\n",
       "운항(편)         -1.2627      0.365     -3.460      0.001      -1.986      -0.540\n",
       "==============================================================================\n",
       "Omnibus:                        9.405   Durbin-Watson:                   0.265\n",
       "Prob(Omnibus):                  0.009   Jarque-Bera (JB):                9.822\n",
       "Skew:                           0.706   Prob(JB):                      0.00736\n",
       "Kurtosis:                       3.070   Cond. No.                     1.62e+05\n",
       "==============================================================================\n",
       "\n",
       "Warnings:\n",
       "[1] Standard Errors assume that the covariance matrix of the errors is correctly specified.\n",
       "[2] The condition number is large, 1.62e+05. This might indicate that there are\n",
       "strong multicollinearity or other numerical problems.\n",
       "\"\"\""
      ]
     },
     "execution_count": 546,
     "metadata": {},
     "output_type": "execute_result"
    }
   ],
   "source": [
    "model7 = sm.OLS(yy2,xxn2p)\n",
    "result7=model7.fit()\n",
    "result7.summary()"
   ]
  },
  {
   "cell_type": "code",
   "execution_count": 547,
   "metadata": {},
   "outputs": [
    {
     "name": "stderr",
     "output_type": "stream",
     "text": [
      "C:\\Users\\com\\Anaconda3\\lib\\site-packages\\numpy\\core\\fromnumeric.py:2389: FutureWarning: Method .ptp is deprecated and will be removed in a future version. Use numpy.ptp instead.\n",
      "  return ptp(axis=axis, out=out, **kwargs)\n"
     ]
    }
   ],
   "source": [
    "xx1 = xx1pv/np.mean(xx1pv)\n",
    "xx2 = xx2pv/np.mean(xx2pv)\n",
    "yy1 = yy1/np.mean(yy1)\n",
    "yy2 = yy2/np.mean(yy2)\n",
    "xcum = np.concatenate([xx1,xx2], axis = None)\n",
    "yyy2 = np.concatenate([yy1,yy2], axis = None)\n",
    "xxx = pd.DataFrame({'여객(명)' : xcum})\n",
    "xxx2p = sm.add_constant(xxx,has_constant='add')\n",
    "xxx2pv = xxx2p['여객(명)'].values"
   ]
  },
  {
   "cell_type": "code",
   "execution_count": 548,
   "metadata": {},
   "outputs": [
    {
     "data": {
      "text/plain": [
       "LinearRegression(copy_X=True, fit_intercept=True, n_jobs=None, normalize=False)"
      ]
     },
     "execution_count": 548,
     "metadata": {},
     "output_type": "execute_result"
    }
   ],
   "source": [
    "line16 = LinearRegression()\n",
    "line16.fit(xxx2pv.reshape(-1,1),yyy2)"
   ]
  },
  {
   "cell_type": "code",
   "execution_count": 549,
   "metadata": {},
   "outputs": [
    {
     "data": {
      "text/plain": [
       "235"
      ]
     },
     "execution_count": 549,
     "metadata": {},
     "output_type": "execute_result"
    }
   ],
   "source": [
    "len(yyy2)"
   ]
  },
  {
   "cell_type": "code",
   "execution_count": 516,
   "metadata": {},
   "outputs": [
    {
     "data": {
      "text/plain": [
       "Text(0, 0.5, 'Stock Price')"
      ]
     },
     "execution_count": 516,
     "metadata": {},
     "output_type": "execute_result"
    },
    {
     "data": {
      "image/png": "[encoded data removed]",
      "text/plain": [
       "<Figure size 432x288 with 1 Axes>"
      ]
     },
     "metadata": {
      "needs_background": "light"
     },
     "output_type": "display_data"
    }
   ],
   "source": [
    "plt.plot(xxx2pv, yyy2, 'o', c = 'purple')\n",
    "plt.plot(xxx2pv,line16.predict(xxx2pv.reshape(-1,1)), color = 'green')\n",
    "plt.title('Cumulative Case(Passenger)', fontsize = 15)\n",
    "plt.xlabel('Seats Number', fontsize = 15)\n",
    "plt.ylabel('Stock Price', fontsize = 15)"
   ]
  },
  {
   "cell_type": "code",
   "execution_count": 517,
   "metadata": {},
   "outputs": [
    {
     "data": {
      "text/html": [
       "<table class=\"simpletable\">\n",
       "<caption>OLS Regression Results</caption>\n",
       "<tr>\n",
       "  <th>Dep. Variable:</th>            <td>y</td>        <th>  R-squared:         </th> <td>   0.185</td>\n",
       "</tr>\n",
       "<tr>\n",
       "  <th>Model:</th>                   <td>OLS</td>       <th>  Adj. R-squared:    </th> <td>   0.181</td>\n",
       "</tr>\n",
       "<tr>\n",
       "  <th>Method:</th>             <td>Least Squares</td>  <th>  F-statistic:       </th> <td>   52.83</td>\n",
       "</tr>\n",
       "<tr>\n",
       "  <th>Date:</th>             <td>Tue, 17 Nov 2020</td> <th>  Prob (F-statistic):</th> <td>5.46e-12</td>\n",
       "</tr>\n",
       "<tr>\n",
       "  <th>Time:</th>                 <td>00:53:26</td>     <th>  Log-Likelihood:    </th> <td> -60.104</td>\n",
       "</tr>\n",
       "<tr>\n",
       "  <th>No. Observations:</th>      <td>   235</td>      <th>  AIC:               </th> <td>   124.2</td>\n",
       "</tr>\n",
       "<tr>\n",
       "  <th>Df Residuals:</th>          <td>   233</td>      <th>  BIC:               </th> <td>   131.1</td>\n",
       "</tr>\n",
       "<tr>\n",
       "  <th>Df Model:</th>              <td>     1</td>      <th>                     </th>     <td> </td>   \n",
       "</tr>\n",
       "<tr>\n",
       "  <th>Covariance Type:</th>      <td>nonrobust</td>    <th>                     </th>     <td> </td>   \n",
       "</tr>\n",
       "</table>\n",
       "<table class=\"simpletable\">\n",
       "<tr>\n",
       "    <td></td>       <th>coef</th>     <th>std err</th>      <th>t</th>      <th>P>|t|</th>  <th>[0.025</th>    <th>0.975]</th>  \n",
       "</tr>\n",
       "<tr>\n",
       "  <th>const</th> <td>    2.2941</td> <td>    0.179</td> <td>   12.801</td> <td> 0.000</td> <td>    1.941</td> <td>    2.647</td>\n",
       "</tr>\n",
       "<tr>\n",
       "  <th>여객(명)</th> <td>   -1.2941</td> <td>    0.178</td> <td>   -7.268</td> <td> 0.000</td> <td>   -1.645</td> <td>   -0.943</td>\n",
       "</tr>\n",
       "</table>\n",
       "<table class=\"simpletable\">\n",
       "<tr>\n",
       "  <th>Omnibus:</th>       <td>36.140</td> <th>  Durbin-Watson:     </th> <td>   0.251</td>\n",
       "</tr>\n",
       "<tr>\n",
       "  <th>Prob(Omnibus):</th> <td> 0.000</td> <th>  Jarque-Bera (JB):  </th> <td>  47.910</td>\n",
       "</tr>\n",
       "<tr>\n",
       "  <th>Skew:</th>          <td> 1.019</td> <th>  Prob(JB):          </th> <td>3.95e-11</td>\n",
       "</tr>\n",
       "<tr>\n",
       "  <th>Kurtosis:</th>      <td> 3.858</td> <th>  Cond. No.          </th> <td>    17.5</td>\n",
       "</tr>\n",
       "</table><br/><br/>Warnings:<br/>[1] Standard Errors assume that the covariance matrix of the errors is correctly specified."
      ],
      "text/plain": [
       "<class 'statsmodels.iolib.summary.Summary'>\n",
       "\"\"\"\n",
       "                            OLS Regression Results                            \n",
       "==============================================================================\n",
       "Dep. Variable:                      y   R-squared:                       0.185\n",
       "Model:                            OLS   Adj. R-squared:                  0.181\n",
       "Method:                 Least Squares   F-statistic:                     52.83\n",
       "Date:                Tue, 17 Nov 2020   Prob (F-statistic):           5.46e-12\n",
       "Time:                        00:53:26   Log-Likelihood:                -60.104\n",
       "No. Observations:                 235   AIC:                             124.2\n",
       "Df Residuals:                     233   BIC:                             131.1\n",
       "Df Model:                           1                                         \n",
       "Covariance Type:            nonrobust                                         \n",
       "==============================================================================\n",
       "                 coef    std err          t      P>|t|      [0.025      0.975]\n",
       "------------------------------------------------------------------------------\n",
       "const          2.2941      0.179     12.801      0.000       1.941       2.647\n",
       "여객(명)         -1.2941      0.178     -7.268      0.000      -1.645      -0.943\n",
       "==============================================================================\n",
       "Omnibus:                       36.140   Durbin-Watson:                   0.251\n",
       "Prob(Omnibus):                  0.000   Jarque-Bera (JB):               47.910\n",
       "Skew:                           1.019   Prob(JB):                     3.95e-11\n",
       "Kurtosis:                       3.858   Cond. No.                         17.5\n",
       "==============================================================================\n",
       "\n",
       "Warnings:\n",
       "[1] Standard Errors assume that the covariance matrix of the errors is correctly specified.\n",
       "\"\"\""
      ]
     },
     "execution_count": 517,
     "metadata": {},
     "output_type": "execute_result"
    }
   ],
   "source": [
    "model7 = sm.OLS(yyy2,xxx2p)\n",
    "result7=model7.fit()\n",
    "result7.summary()"
   ]
  },
  {
   "cell_type": "code",
   "execution_count": 550,
   "metadata": {},
   "outputs": [
    {
     "name": "stderr",
     "output_type": "stream",
     "text": [
      "C:\\Users\\com\\Anaconda3\\lib\\site-packages\\numpy\\core\\fromnumeric.py:2389: FutureWarning: Method .ptp is deprecated and will be removed in a future version. Use numpy.ptp instead.\n",
      "  return ptp(axis=axis, out=out, **kwargs)\n"
     ]
    }
   ],
   "source": [
    "xn1 = xxn1pv/np.mean(xxn1pv)\n",
    "xn2 = xxn2pv/np.mean(xxn2pv)\n",
    "xcum = np.concatenate([xn1,xn2], axis = None)\n",
    "xxx = pd.DataFrame({'운항(편)' : xcum})\n",
    "xxxn2p = sm.add_constant(xxx,has_constant='add')\n",
    "xxxn2pv = xxxn2p['운항(편)'].values"
   ]
  },
  {
   "cell_type": "code",
   "execution_count": 551,
   "metadata": {},
   "outputs": [
    {
     "data": {
      "text/plain": [
       "LinearRegression(copy_X=True, fit_intercept=True, n_jobs=None, normalize=False)"
      ]
     },
     "execution_count": 551,
     "metadata": {},
     "output_type": "execute_result"
    }
   ],
   "source": [
    "line16 = LinearRegression()\n",
    "line16.fit(xxxn2pv.reshape(-1,1),yyy2)"
   ]
  },
  {
   "cell_type": "code",
   "execution_count": 553,
   "metadata": {},
   "outputs": [
    {
     "data": {
      "text/plain": [
       "Text(0, 0.5, 'Stock Price')"
      ]
     },
     "execution_count": 553,
     "metadata": {},
     "output_type": "execute_result"
    },
    {
     "data": {
      "image/png": "[encoded data removed]",
      "text/plain": [
       "<Figure size 432x288 with 1 Axes>"
      ]
     },
     "metadata": {
      "needs_background": "light"
     },
     "output_type": "display_data"
    }
   ],
   "source": [
    "plt.plot(xxxn2pv, yyy2, 'o', c = 'purple')\n",
    "plt.plot(xxxn2pv,line16.predict(xxxn2pv.reshape(-1,1)), color = 'green')\n",
    "plt.title('Cumulative Case(Passenger)', fontsize = 15)\n",
    "plt.xlabel('Sorties', fontsize = 15)\n",
    "plt.ylabel('Stock Price', fontsize = 15)"
   ]
  },
  {
   "cell_type": "code",
   "execution_count": 554,
   "metadata": {},
   "outputs": [
    {
     "data": {
      "text/html": [
       "<table class=\"simpletable\">\n",
       "<caption>OLS Regression Results</caption>\n",
       "<tr>\n",
       "  <th>Dep. Variable:</th>            <td>y</td>        <th>  R-squared:         </th> <td>   0.220</td>\n",
       "</tr>\n",
       "<tr>\n",
       "  <th>Model:</th>                   <td>OLS</td>       <th>  Adj. R-squared:    </th> <td>   0.217</td>\n",
       "</tr>\n",
       "<tr>\n",
       "  <th>Method:</th>             <td>Least Squares</td>  <th>  F-statistic:       </th> <td>   65.82</td>\n",
       "</tr>\n",
       "<tr>\n",
       "  <th>Date:</th>             <td>Tue, 17 Nov 2020</td> <th>  Prob (F-statistic):</th> <td>2.83e-14</td>\n",
       "</tr>\n",
       "<tr>\n",
       "  <th>Time:</th>                 <td>00:58:54</td>     <th>  Log-Likelihood:    </th> <td> -54.882</td>\n",
       "</tr>\n",
       "<tr>\n",
       "  <th>No. Observations:</th>      <td>   235</td>      <th>  AIC:               </th> <td>   113.8</td>\n",
       "</tr>\n",
       "<tr>\n",
       "  <th>Df Residuals:</th>          <td>   233</td>      <th>  BIC:               </th> <td>   120.7</td>\n",
       "</tr>\n",
       "<tr>\n",
       "  <th>Df Model:</th>              <td>     1</td>      <th>                     </th>     <td> </td>   \n",
       "</tr>\n",
       "<tr>\n",
       "  <th>Covariance Type:</th>      <td>nonrobust</td>    <th>                     </th>     <td> </td>   \n",
       "</tr>\n",
       "</table>\n",
       "<table class=\"simpletable\">\n",
       "<tr>\n",
       "    <td></td>       <th>coef</th>     <th>std err</th>      <th>t</th>      <th>P>|t|</th>  <th>[0.025</th>    <th>0.975]</th>  \n",
       "</tr>\n",
       "<tr>\n",
       "  <th>const</th> <td>    4.0193</td> <td>    0.373</td> <td>   10.784</td> <td> 0.000</td> <td>    3.285</td> <td>    4.754</td>\n",
       "</tr>\n",
       "<tr>\n",
       "  <th>운항(편)</th> <td>   -3.0193</td> <td>    0.372</td> <td>   -8.113</td> <td> 0.000</td> <td>   -3.752</td> <td>   -2.286</td>\n",
       "</tr>\n",
       "</table>\n",
       "<table class=\"simpletable\">\n",
       "<tr>\n",
       "  <th>Omnibus:</th>       <td>11.623</td> <th>  Durbin-Watson:     </th> <td>   0.394</td>\n",
       "</tr>\n",
       "<tr>\n",
       "  <th>Prob(Omnibus):</th> <td> 0.003</td> <th>  Jarque-Bera (JB):  </th> <td>  12.118</td>\n",
       "</tr>\n",
       "<tr>\n",
       "  <th>Skew:</th>          <td> 0.552</td> <th>  Prob(JB):          </th> <td> 0.00234</td>\n",
       "</tr>\n",
       "<tr>\n",
       "  <th>Kurtosis:</th>      <td> 3.139</td> <th>  Cond. No.          </th> <td>    37.2</td>\n",
       "</tr>\n",
       "</table><br/><br/>Warnings:<br/>[1] Standard Errors assume that the covariance matrix of the errors is correctly specified."
      ],
      "text/plain": [
       "<class 'statsmodels.iolib.summary.Summary'>\n",
       "\"\"\"\n",
       "                            OLS Regression Results                            \n",
       "==============================================================================\n",
       "Dep. Variable:                      y   R-squared:                       0.220\n",
       "Model:                            OLS   Adj. R-squared:                  0.217\n",
       "Method:                 Least Squares   F-statistic:                     65.82\n",
       "Date:                Tue, 17 Nov 2020   Prob (F-statistic):           2.83e-14\n",
       "Time:                        00:58:54   Log-Likelihood:                -54.882\n",
       "No. Observations:                 235   AIC:                             113.8\n",
       "Df Residuals:                     233   BIC:                             120.7\n",
       "Df Model:                           1                                         \n",
       "Covariance Type:            nonrobust                                         \n",
       "==============================================================================\n",
       "                 coef    std err          t      P>|t|      [0.025      0.975]\n",
       "------------------------------------------------------------------------------\n",
       "const          4.0193      0.373     10.784      0.000       3.285       4.754\n",
       "운항(편)         -3.0193      0.372     -8.113      0.000      -3.752      -2.286\n",
       "==============================================================================\n",
       "Omnibus:                       11.623   Durbin-Watson:                   0.394\n",
       "Prob(Omnibus):                  0.003   Jarque-Bera (JB):               12.118\n",
       "Skew:                           0.552   Prob(JB):                      0.00234\n",
       "Kurtosis:                       3.139   Cond. No.                         37.2\n",
       "==============================================================================\n",
       "\n",
       "Warnings:\n",
       "[1] Standard Errors assume that the covariance matrix of the errors is correctly specified.\n",
       "\"\"\""
      ]
     },
     "execution_count": 554,
     "metadata": {},
     "output_type": "execute_result"
    }
   ],
   "source": [
    "model7 = sm.OLS(yyy2,xxxn2p)\n",
    "result7=model7.fit()\n",
    "result7.summary()"
   ]
  },
  {
   "cell_type": "markdown",
   "metadata": {},
   "source": [
    "# 유가가격 - 주가\n",
    "Source : Investig.com Crude Oil Contract"
   ]
  },
  {
   "cell_type": "code",
   "execution_count": 582,
   "metadata": {},
   "outputs": [
    {
     "data": {
      "text/plain": [
       "120"
      ]
     },
     "execution_count": 582,
     "metadata": {},
     "output_type": "execute_result"
    }
   ],
   "source": [
    "yraw1 = pd.read_excel(r'C:\\Users\\com\\[MSB535]\\data\\대한항공주가.xlsx', index_col = 0)\n",
    "ypot = yraw1['Price']\n",
    "y1 = ypot.values\n",
    "len(y1)"
   ]
  },
  {
   "cell_type": "code",
   "execution_count": 583,
   "metadata": {},
   "outputs": [
    {
     "data": {
      "text/plain": [
       "120"
      ]
     },
     "execution_count": 583,
     "metadata": {},
     "output_type": "execute_result"
    }
   ],
   "source": [
    "yraw2 = pd.read_excel(r'C:\\Users\\com\\[MSB535]\\data\\아시아나주가.xlsx', index_col = 0)\n",
    "ypot = yraw2['Price']\n",
    "y2 = ypot.values\n",
    "len(y2)"
   ]
  },
  {
   "cell_type": "code",
   "execution_count": 584,
   "metadata": {},
   "outputs": [],
   "source": [
    "oilraw = pd.read_excel(r'C:\\Users\\com\\[MSB535]\\data\\유가가격.xlsx', index_col = 0)"
   ]
  },
  {
   "cell_type": "code",
   "execution_count": 585,
   "metadata": {},
   "outputs": [],
   "source": [
    "oilraw1 = oilraw.drop([oilraw.index[76]])"
   ]
  },
  {
   "cell_type": "code",
   "execution_count": 586,
   "metadata": {},
   "outputs": [
    {
     "name": "stderr",
     "output_type": "stream",
     "text": [
      "C:\\Users\\com\\Anaconda3\\lib\\site-packages\\numpy\\core\\fromnumeric.py:2389: FutureWarning: Method .ptp is deprecated and will be removed in a future version. Use numpy.ptp instead.\n",
      "  return ptp(axis=axis, out=out, **kwargs)\n"
     ]
    }
   ],
   "source": [
    "oildata = oilraw1['Price']\n",
    "oiltable = pd.DataFrame({'유가' : oildata})\n",
    "x1 = sm.add_constant(oiltable,has_constant='add')\n",
    "x1v = x1['유가'].values"
   ]
  },
  {
   "cell_type": "code",
   "execution_count": 587,
   "metadata": {},
   "outputs": [],
   "source": [
    "y1 = np.delete(y1,76)\n",
    "y2 = np.delete(y2,76)"
   ]
  },
  {
   "cell_type": "code",
   "execution_count": 588,
   "metadata": {},
   "outputs": [
    {
     "data": {
      "text/plain": [
       "LinearRegression(copy_X=True, fit_intercept=True, n_jobs=None, normalize=False)"
      ]
     },
     "execution_count": 588,
     "metadata": {},
     "output_type": "execute_result"
    }
   ],
   "source": [
    "line5 = LinearRegression()\n",
    "line5.fit(x1v.reshape(-1,1),y1)"
   ]
  },
  {
   "cell_type": "code",
   "execution_count": 589,
   "metadata": {},
   "outputs": [
    {
     "data": {
      "text/plain": [
       "[10, 130, 10000, 100000]"
      ]
     },
     "execution_count": 589,
     "metadata": {},
     "output_type": "execute_result"
    },
    {
     "data": {
      "image/png": "[encoded data removed]",
      "text/plain": [
       "<Figure size 432x288 with 1 Axes>"
      ]
     },
     "metadata": {
      "needs_background": "light"
     },
     "output_type": "display_data"
    }
   ],
   "source": [
    "plt.plot(x1v, y1, 'o')\n",
    "plt.plot(x1v,line5.predict(x1v.reshape(-1,1)), color = 'green')\n",
    "plt.xlabel('Oil Price', fontsize = 15)\n",
    "plt.ylabel('Stock Price', fontsize = 15)\n",
    "plt.title('Korean Airline Case', fontsize = 15)\n",
    "plt.axis([10, 130,10000,100000])"
   ]
  },
  {
   "cell_type": "code",
   "execution_count": 590,
   "metadata": {},
   "outputs": [
    {
     "data": {
      "text/html": [
       "<table class=\"simpletable\">\n",
       "<caption>OLS Regression Results</caption>\n",
       "<tr>\n",
       "  <th>Dep. Variable:</th>            <td>y</td>        <th>  R-squared:         </th> <td>   0.222</td>\n",
       "</tr>\n",
       "<tr>\n",
       "  <th>Model:</th>                   <td>OLS</td>       <th>  Adj. R-squared:    </th> <td>   0.215</td>\n",
       "</tr>\n",
       "<tr>\n",
       "  <th>Method:</th>             <td>Least Squares</td>  <th>  F-statistic:       </th> <td>   33.37</td>\n",
       "</tr>\n",
       "<tr>\n",
       "  <th>Date:</th>             <td>Tue, 17 Nov 2020</td> <th>  Prob (F-statistic):</th> <td>6.42e-08</td>\n",
       "</tr>\n",
       "<tr>\n",
       "  <th>Time:</th>                 <td>01:05:04</td>     <th>  Log-Likelihood:    </th> <td> -1301.4</td>\n",
       "</tr>\n",
       "<tr>\n",
       "  <th>No. Observations:</th>      <td>   119</td>      <th>  AIC:               </th> <td>   2607.</td>\n",
       "</tr>\n",
       "<tr>\n",
       "  <th>Df Residuals:</th>          <td>   117</td>      <th>  BIC:               </th> <td>   2612.</td>\n",
       "</tr>\n",
       "<tr>\n",
       "  <th>Df Model:</th>              <td>     1</td>      <th>                     </th>     <td> </td>   \n",
       "</tr>\n",
       "<tr>\n",
       "  <th>Covariance Type:</th>      <td>nonrobust</td>    <th>                     </th>     <td> </td>   \n",
       "</tr>\n",
       "</table>\n",
       "<table class=\"simpletable\">\n",
       "<tr>\n",
       "    <td></td>       <th>coef</th>     <th>std err</th>      <th>t</th>      <th>P>|t|</th>  <th>[0.025</th>    <th>0.975]</th>  \n",
       "</tr>\n",
       "<tr>\n",
       "  <th>const</th> <td> 1.642e+04</td> <td> 4384.111</td> <td>    3.745</td> <td> 0.000</td> <td> 7734.936</td> <td> 2.51e+04</td>\n",
       "</tr>\n",
       "<tr>\n",
       "  <th>유가</th>    <td>  335.0069</td> <td>   57.997</td> <td>    5.776</td> <td> 0.000</td> <td>  220.147</td> <td>  449.867</td>\n",
       "</tr>\n",
       "</table>\n",
       "<table class=\"simpletable\">\n",
       "<tr>\n",
       "  <th>Omnibus:</th>       <td>17.687</td> <th>  Durbin-Watson:     </th> <td>   0.097</td>\n",
       "</tr>\n",
       "<tr>\n",
       "  <th>Prob(Omnibus):</th> <td> 0.000</td> <th>  Jarque-Bera (JB):  </th> <td>  20.395</td>\n",
       "</tr>\n",
       "<tr>\n",
       "  <th>Skew:</th>          <td> 0.942</td> <th>  Prob(JB):          </th> <td>3.73e-05</td>\n",
       "</tr>\n",
       "<tr>\n",
       "  <th>Kurtosis:</th>      <td> 3.751</td> <th>  Cond. No.          </th> <td>    264.</td>\n",
       "</tr>\n",
       "</table><br/><br/>Warnings:<br/>[1] Standard Errors assume that the covariance matrix of the errors is correctly specified."
      ],
      "text/plain": [
       "<class 'statsmodels.iolib.summary.Summary'>\n",
       "\"\"\"\n",
       "                            OLS Regression Results                            \n",
       "==============================================================================\n",
       "Dep. Variable:                      y   R-squared:                       0.222\n",
       "Model:                            OLS   Adj. R-squared:                  0.215\n",
       "Method:                 Least Squares   F-statistic:                     33.37\n",
       "Date:                Tue, 17 Nov 2020   Prob (F-statistic):           6.42e-08\n",
       "Time:                        01:05:04   Log-Likelihood:                -1301.4\n",
       "No. Observations:                 119   AIC:                             2607.\n",
       "Df Residuals:                     117   BIC:                             2612.\n",
       "Df Model:                           1                                         \n",
       "Covariance Type:            nonrobust                                         \n",
       "==============================================================================\n",
       "                 coef    std err          t      P>|t|      [0.025      0.975]\n",
       "------------------------------------------------------------------------------\n",
       "const       1.642e+04   4384.111      3.745      0.000    7734.936    2.51e+04\n",
       "유가           335.0069     57.997      5.776      0.000     220.147     449.867\n",
       "==============================================================================\n",
       "Omnibus:                       17.687   Durbin-Watson:                   0.097\n",
       "Prob(Omnibus):                  0.000   Jarque-Bera (JB):               20.395\n",
       "Skew:                           0.942   Prob(JB):                     3.73e-05\n",
       "Kurtosis:                       3.751   Cond. No.                         264.\n",
       "==============================================================================\n",
       "\n",
       "Warnings:\n",
       "[1] Standard Errors assume that the covariance matrix of the errors is correctly specified.\n",
       "\"\"\""
      ]
     },
     "execution_count": 590,
     "metadata": {},
     "output_type": "execute_result"
    }
   ],
   "source": [
    "model7 = sm.OLS(y1,x1)\n",
    "result7=model7.fit()\n",
    "result7.summary()"
   ]
  },
  {
   "cell_type": "code",
   "execution_count": 579,
   "metadata": {},
   "outputs": [
    {
     "data": {
      "text/plain": [
       "LinearRegression(copy_X=True, fit_intercept=True, n_jobs=None, normalize=False)"
      ]
     },
     "execution_count": 579,
     "metadata": {},
     "output_type": "execute_result"
    }
   ],
   "source": [
    "line6 = LinearRegression()\n",
    "line6.fit(x1.reshape(-1,1),y2)"
   ]
  },
  {
   "cell_type": "code",
   "execution_count": 601,
   "metadata": {
    "scrolled": true
   },
   "outputs": [
    {
     "data": {
      "text/plain": [
       "[10, 130, 2000, 13000]"
      ]
     },
     "execution_count": 601,
     "metadata": {},
     "output_type": "execute_result"
    },
    {
     "data": {
      "image/png": "[encoded data removed]",
      "text/plain": [
       "<Figure size 432x288 with 1 Axes>"
      ]
     },
     "metadata": {
      "needs_background": "light"
     },
     "output_type": "display_data"
    }
   ],
   "source": [
    "plt.plot(x1, y2, 'o', color = '#e35f62')\n",
    "plt.plot(x1,line6.predict(x1.reshape(-1,1)), color = 'green')\n",
    "plt.xlabel('Oil Price', fontsize = 15)\n",
    "plt.ylabel('Stock Price', fontsize = 15)\n",
    "plt.title('Asiana Airline Case', fontsize = 15)\n",
    "plt.axis([10, 130,2000,13000])"
   ]
  },
  {
   "cell_type": "code",
   "execution_count": 602,
   "metadata": {},
   "outputs": [],
   "source": [
    "x1 = x1/np.mean(x1)\n",
    "y1 = y1/np.mean(y1)\n",
    "y2 = y2/np.mean(y2)\n",
    "xxx = np.concatenate([x1,x1], axis = None)\n",
    "yyy = np.concatenate([y1,y2], axis = None)"
   ]
  },
  {
   "cell_type": "code",
   "execution_count": 603,
   "metadata": {},
   "outputs": [
    {
     "data": {
      "text/plain": [
       "LinearRegression(copy_X=True, fit_intercept=True, n_jobs=None, normalize=False)"
      ]
     },
     "execution_count": 603,
     "metadata": {},
     "output_type": "execute_result"
    }
   ],
   "source": [
    "line6 = LinearRegression()\n",
    "line6.fit(xxx.reshape(-1,1),yyy)"
   ]
  },
  {
   "cell_type": "code",
   "execution_count": 604,
   "metadata": {},
   "outputs": [
    {
     "data": {
      "text/plain": [
       "Text(0, 0.5, 'Stock Price')"
      ]
     },
     "execution_count": 604,
     "metadata": {},
     "output_type": "execute_result"
    },
    {
     "data": {
      "image/png": "[encoded data removed]",
      "text/plain": [
       "<Figure size 432x288 with 1 Axes>"
      ]
     },
     "metadata": {
      "needs_background": "light"
     },
     "output_type": "display_data"
    }
   ],
   "source": [
    "plt.plot(xxx, yyy, 'o', c = 'purple')\n",
    "plt.plot(xxx,line16.predict(xxx.reshape(-1,1)), color = 'green')\n",
    "plt.title('Cumulative Case(Oil)', fontsize = 15)\n",
    "plt.xlabel('Oil Price', fontsize = 15)\n",
    "plt.ylabel('Stock Price', fontsize = 15)"
   ]
  },
  {
   "cell_type": "markdown",
   "metadata": {},
   "source": [
    "### 관광지표 비교\n",
    "Source : 한국관광공사"
   ]
  },
  {
   "cell_type": "code",
   "execution_count": 61,
   "metadata": {},
   "outputs": [],
   "source": [
    "tourraw = pd.read_excel(r'C:\\Users\\com\\[MSB535]\\data\\관광지표.xlsx', index_col = 0)"
   ]
  },
  {
   "cell_type": "code",
   "execution_count": 63,
   "metadata": {},
   "outputs": [],
   "source": [
    "pop = tourraw['인구총계'].values\n",
    "cash = tourraw['현금총계'].values"
   ]
  },
  {
   "cell_type": "code",
   "execution_count": 64,
   "metadata": {},
   "outputs": [],
   "source": [
    "pop = np.delete(pop,76)\n",
    "cash = np.delete(cash,76)"
   ]
  },
  {
   "cell_type": "code",
   "execution_count": 65,
   "metadata": {},
   "outputs": [
    {
     "data": {
      "text/plain": [
       "LinearRegression(copy_X=True, fit_intercept=True, n_jobs=None, normalize=False)"
      ]
     },
     "execution_count": 65,
     "metadata": {},
     "output_type": "execute_result"
    }
   ],
   "source": [
    "line7 = LinearRegression()\n",
    "line8 = LinearRegression()\n",
    "line9 = LinearRegression()\n",
    "line10 = LinearRegression()\n",
    "line7.fit(pop.reshape(-1,1),y1)\n",
    "line8.fit(cash.reshape(-1,1),y1)\n",
    "line9.fit(pop.reshape(-1,1),y2)\n",
    "line10.fit(cash.reshape(-1,1),y2)"
   ]
  },
  {
   "cell_type": "code",
   "execution_count": 66,
   "metadata": {},
   "outputs": [
    {
     "data": {
      "text/plain": [
       "[1400000, 4500000, 10000, 100000]"
      ]
     },
     "execution_count": 66,
     "metadata": {},
     "output_type": "execute_result"
    },
    {
     "data": {
      "image/png": "[encoded data removed]",
      "text/plain": [
       "<Figure size 432x288 with 1 Axes>"
      ]
     },
     "metadata": {
      "needs_background": "light"
     },
     "output_type": "display_data"
    }
   ],
   "source": [
    "plt.plot(pop, y1, 'o')\n",
    "plt.plot(pop,line7.predict(pop.reshape(-1,1)), color = 'green')\n",
    "plt.xlabel('Tour Population', fontsize = 15)\n",
    "plt.ylabel('Stock Price', fontsize = 15)\n",
    "plt.title('Korean Airline Case', fontsize = 15)\n",
    "plt.axis([1400000, 4500000,10000,100000])"
   ]
  },
  {
   "cell_type": "code",
   "execution_count": 67,
   "metadata": {},
   "outputs": [
    {
     "data": {
      "text/plain": [
       "[1400000, 4500000, 2000, 13000]"
      ]
     },
     "execution_count": 67,
     "metadata": {},
     "output_type": "execute_result"
    },
    {
     "data": {
      "image/png": "[encoded data removed]",
      "text/plain": [
       "<Figure size 432x288 with 1 Axes>"
      ]
     },
     "metadata": {
      "needs_background": "light"
     },
     "output_type": "display_data"
    }
   ],
   "source": [
    "plt.plot(pop, y2, 'o', color = '#e35f62')\n",
    "plt.plot(pop,line9.predict(pop.reshape(-1,1)), color = 'green')\n",
    "plt.scatter(pop,y2,color = '#e35f62')\n",
    "plt.xlabel('Tour Population', fontsize = 15)\n",
    "plt.ylabel('Stock Price', fontsize = 15)\n",
    "plt.title('Asiana Airline Case', fontsize = 15)\n",
    "plt.axis([1400000, 4500000,2000,13000])"
   ]
  },
  {
   "cell_type": "code",
   "execution_count": 68,
   "metadata": {},
   "outputs": [
    {
     "data": {
      "text/plain": [
       "Text(0.5, 1.0, 'Korean Airline Case')"
      ]
     },
     "execution_count": 68,
     "metadata": {},
     "output_type": "execute_result"
    },
    {
     "data": {
      "image/png": "[encoded data removed]",
      "text/plain": [
       "<Figure size 432x288 with 1 Axes>"
      ]
     },
     "metadata": {
      "needs_background": "light"
     },
     "output_type": "display_data"
    }
   ],
   "source": [
    "plt.plot(cash, y1, 'o')\n",
    "plt.plot(cash,line8.predict(cash.reshape(-1,1)), color = 'green')\n",
    "plt.scatter(cash,y1)\n",
    "plt.xlabel('Total Cash Flow', fontsize = 15)\n",
    "plt.ylabel('Stock Price', fontsize = 15)\n",
    "plt.title('Korean Airline Case', fontsize = 15)\n",
    "#plt.axis([1400000, 4500000,10000,100000])"
   ]
  },
  {
   "cell_type": "code",
   "execution_count": 69,
   "metadata": {},
   "outputs": [
    {
     "data": {
      "text/plain": [
       "Text(0.5, 1.0, 'Asiana Airline Case')"
      ]
     },
     "execution_count": 69,
     "metadata": {},
     "output_type": "execute_result"
    },
    {
     "data": {
      "image/png": "[encoded data removed]",
      "text/plain": [
       "<Figure size 432x288 with 1 Axes>"
      ]
     },
     "metadata": {
      "needs_background": "light"
     },
     "output_type": "display_data"
    }
   ],
   "source": [
    "plt.plot(cash, y2, 'o', color = '#e35f62')\n",
    "plt.plot(cash,line10.predict(cash.reshape(-1,1)), color = 'green')\n",
    "plt.xlabel('Total Cash Flow', fontsize = 15)\n",
    "plt.ylabel('Stock Price', fontsize = 15)\n",
    "plt.title('Asiana Airline Case', fontsize = 15)\n",
    "#plt.axis([1400000, 4500000,10000,100000])"
   ]
  },
  {
   "cell_type": "code",
   "execution_count": null,
   "metadata": {},
   "outputs": [],
   "source": []
  },
  {
   "cell_type": "code",
   "execution_count": null,
   "metadata": {},
   "outputs": [],
   "source": []
  },
  {
   "cell_type": "code",
   "execution_count": null,
   "metadata": {},
   "outputs": [],
   "source": []
  }
 ],
 "metadata": {
  "kernelspec": {
   "display_name": "Python 3",
   "language": "python",
   "name": "python3"
  },
  "language_info": {
   "codemirror_mode": {
    "name": "ipython",
    "version": 3
   },
   "file_extension": ".py",
   "mimetype": "text/x-python",
   "name": "python",
   "nbconvert_exporter": "python",
   "pygments_lexer": "ipython3",
   "version": "3.7.3"
  }
 },
 "nbformat": 4,
 "nbformat_minor": 4
}
