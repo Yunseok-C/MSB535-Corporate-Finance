{
 "cells": [
  {
   "cell_type": "code",
   "execution_count": 1,
   "metadata": {},
   "outputs": [],
   "source": [
    "import statsmodels.api as sm\n",
    "import requests as req\n",
    "from bs4 import BeautifulSoup\n",
    "import pandas as pd\n",
    "import traceback\n",
    "import matplotlib\n",
    "from matplotlib import pyplot as plt\n",
    "import numpy as np\n",
    "from sklearn.linear_model import LinearRegression"
   ]
  },
  {
   "cell_type": "markdown",
   "metadata": {},
   "source": [
    "## 현차주가"
   ]
  },
  {
   "cell_type": "code",
   "execution_count": 57,
   "metadata": {},
   "outputs": [],
   "source": [
    "url = \"https://www.investing.com/instruments/HistoricalDataAjax\"\n",
    "head = {\n",
    "    'User-Agent': 'Mozilla/5.0 (Windows NT 10.0; Win64; x64) AppleWebKit/537.36 (KHTML, like Gecko) Chrome/86.0.4240.183 Safari/537.36',\n",
    "    'X-Requested-With': 'XMLHttpRequest'\n",
    "}\n",
    "payload = {\n",
    "    'curr_id': '43399',\n",
    "'smlID': '1310778',\n",
    "'header': '005380 Historical Data',\n",
    "'st_date': '01/08/2003',\n",
    "#'st_date': '11/18/2019',\n",
    "'end_date': '12/31/2019',\n",
    "'interval_sec': 'Monthly',\n",
    "'sort_col': 'date',\n",
    "'sort_ord': 'DESC',\n",
    "'action': 'historical_data',\n",
    "}\n",
    "raw = req.post(url, headers = head, data = payload)\n",
    "raw.status_code\n",
    "soup = BeautifulSoup(raw.text)\n",
    "hyundai = pd.read_html(str(soup.find('table')))[0]\n",
    "#yraw1.to_excel(excel_writer=r'C:\\Users\\com\\MSB535\\data\\대한항공주가.xlsx')\n",
    "#13년 8월 주가정보 없음."
   ]
  },
  {
   "cell_type": "markdown",
   "metadata": {},
   "source": [
    "## 코스피주가"
   ]
  },
  {
   "cell_type": "code",
   "execution_count": 58,
   "metadata": {},
   "outputs": [],
   "source": [
    "url = \"https://www.investing.com/instruments/HistoricalDataAjax\"\n",
    "head = {\n",
    "    'User-Agent': 'Mozilla/5.0 (Windows NT 10.0; Win64; x64) AppleWebKit/537.36 (KHTML, like Gecko) Chrome/86.0.4240.183 Safari/537.36',\n",
    "    'X-Requested-With': 'XMLHttpRequest'\n",
    "}\n",
    "payload = {\n",
    "    'curr_id': '37426',\n",
    "'smlID': '2055174',\n",
    "'header': 'KOSPI Historical Data',\n",
    "'st_date': '01/08/2003',\n",
    "#'st_date': '11/18/2019',\n",
    "'end_date': '12/31/2019',\n",
    "'interval_sec': 'Monthly',\n",
    "'sort_col': 'date',\n",
    "'sort_ord': 'DESC',\n",
    "'action': 'historical_data',\n",
    "}\n",
    "raw = req.post(url, headers = head, data = payload)\n",
    "raw.status_code\n",
    "soup = BeautifulSoup(raw.text)\n",
    "kospi = pd.read_html(str(soup.find('table')))[0]\n",
    "#yraw1.to_excel(excel_writer=r'C:\\Users\\com\\MSB535\\data\\대한항공주가.xlsx')\n",
    "#13년 8월 주가정보 없음."
   ]
  },
  {
   "cell_type": "code",
   "execution_count": 59,
   "metadata": {},
   "outputs": [
    {
     "data": {
      "text/html": [
       "<div>\n",
       "<style scoped>\n",
       "    .dataframe tbody tr th:only-of-type {\n",
       "        vertical-align: middle;\n",
       "    }\n",
       "\n",
       "    .dataframe tbody tr th {\n",
       "        vertical-align: top;\n",
       "    }\n",
       "\n",
       "    .dataframe thead th {\n",
       "        text-align: right;\n",
       "    }\n",
       "</style>\n",
       "<table border=\"1\" class=\"dataframe\">\n",
       "  <thead>\n",
       "    <tr style=\"text-align: right;\">\n",
       "      <th></th>\n",
       "      <th>Date</th>\n",
       "      <th>Price</th>\n",
       "      <th>Open</th>\n",
       "      <th>High</th>\n",
       "      <th>Low</th>\n",
       "      <th>Vol.</th>\n",
       "      <th>Change %</th>\n",
       "    </tr>\n",
       "  </thead>\n",
       "  <tbody>\n",
       "    <tr>\n",
       "      <th>191</th>\n",
       "      <td>Jan 04</td>\n",
       "      <td>49700</td>\n",
       "      <td>51300</td>\n",
       "      <td>54500</td>\n",
       "      <td>49650</td>\n",
       "      <td>23.73M</td>\n",
       "      <td>-1.58%</td>\n",
       "    </tr>\n",
       "    <tr>\n",
       "      <th>192</th>\n",
       "      <td>Dec 03</td>\n",
       "      <td>50500</td>\n",
       "      <td>45800</td>\n",
       "      <td>51200</td>\n",
       "      <td>44700</td>\n",
       "      <td>20.92M</td>\n",
       "      <td>10.75%</td>\n",
       "    </tr>\n",
       "    <tr>\n",
       "      <th>193</th>\n",
       "      <td>Nov 03</td>\n",
       "      <td>45600</td>\n",
       "      <td>39450</td>\n",
       "      <td>46100</td>\n",
       "      <td>39050</td>\n",
       "      <td>29.97M</td>\n",
       "      <td>15.59%</td>\n",
       "    </tr>\n",
       "    <tr>\n",
       "      <th>194</th>\n",
       "      <td>Oct 03</td>\n",
       "      <td>39450</td>\n",
       "      <td>32400</td>\n",
       "      <td>39850</td>\n",
       "      <td>32100</td>\n",
       "      <td>31.17M</td>\n",
       "      <td>19.18%</td>\n",
       "    </tr>\n",
       "    <tr>\n",
       "      <th>195</th>\n",
       "      <td>Sep 03</td>\n",
       "      <td>33100</td>\n",
       "      <td>38900</td>\n",
       "      <td>40900</td>\n",
       "      <td>31650</td>\n",
       "      <td>25.38M</td>\n",
       "      <td>-15.56%</td>\n",
       "    </tr>\n",
       "  </tbody>\n",
       "</table>\n",
       "</div>"
      ],
      "text/plain": [
       "       Date  Price   Open   High    Low    Vol. Change %\n",
       "191  Jan 04  49700  51300  54500  49650  23.73M   -1.58%\n",
       "192  Dec 03  50500  45800  51200  44700  20.92M   10.75%\n",
       "193  Nov 03  45600  39450  46100  39050  29.97M   15.59%\n",
       "194  Oct 03  39450  32400  39850  32100  31.17M   19.18%\n",
       "195  Sep 03  33100  38900  40900  31650  25.38M  -15.56%"
      ]
     },
     "execution_count": 59,
     "metadata": {},
     "output_type": "execute_result"
    }
   ],
   "source": [
    "hyundai.tail()"
   ]
  },
  {
   "cell_type": "code",
   "execution_count": 60,
   "metadata": {},
   "outputs": [
    {
     "data": {
      "text/html": [
       "<div>\n",
       "<style scoped>\n",
       "    .dataframe tbody tr th:only-of-type {\n",
       "        vertical-align: middle;\n",
       "    }\n",
       "\n",
       "    .dataframe tbody tr th {\n",
       "        vertical-align: top;\n",
       "    }\n",
       "\n",
       "    .dataframe thead th {\n",
       "        text-align: right;\n",
       "    }\n",
       "</style>\n",
       "<table border=\"1\" class=\"dataframe\">\n",
       "  <thead>\n",
       "    <tr style=\"text-align: right;\">\n",
       "      <th></th>\n",
       "      <th>Date</th>\n",
       "      <th>Price</th>\n",
       "      <th>Open</th>\n",
       "      <th>High</th>\n",
       "      <th>Low</th>\n",
       "      <th>Vol.</th>\n",
       "      <th>Change %</th>\n",
       "    </tr>\n",
       "  </thead>\n",
       "  <tbody>\n",
       "    <tr>\n",
       "      <th>198</th>\n",
       "      <td>Jun 03</td>\n",
       "      <td>669.93</td>\n",
       "      <td>643.93</td>\n",
       "      <td>690.70</td>\n",
       "      <td>632.47</td>\n",
       "      <td>9.80B</td>\n",
       "      <td>5.76%</td>\n",
       "    </tr>\n",
       "    <tr>\n",
       "      <th>199</th>\n",
       "      <td>May 03</td>\n",
       "      <td>633.42</td>\n",
       "      <td>600.47</td>\n",
       "      <td>637.19</td>\n",
       "      <td>582.87</td>\n",
       "      <td>9.59B</td>\n",
       "      <td>5.68%</td>\n",
       "    </tr>\n",
       "    <tr>\n",
       "      <th>200</th>\n",
       "      <td>Apr 03</td>\n",
       "      <td>599.35</td>\n",
       "      <td>529.07</td>\n",
       "      <td>627.50</td>\n",
       "      <td>525.51</td>\n",
       "      <td>15.51B</td>\n",
       "      <td>11.88%</td>\n",
       "    </tr>\n",
       "    <tr>\n",
       "      <th>201</th>\n",
       "      <td>Mar 03</td>\n",
       "      <td>535.70</td>\n",
       "      <td>578.50</td>\n",
       "      <td>590.55</td>\n",
       "      <td>512.30</td>\n",
       "      <td>14.94B</td>\n",
       "      <td>-6.90%</td>\n",
       "    </tr>\n",
       "    <tr>\n",
       "      <th>202</th>\n",
       "      <td>Feb 03</td>\n",
       "      <td>575.43</td>\n",
       "      <td>591.88</td>\n",
       "      <td>619.45</td>\n",
       "      <td>561.69</td>\n",
       "      <td>11.62B</td>\n",
       "      <td>-2.78%</td>\n",
       "    </tr>\n",
       "  </tbody>\n",
       "</table>\n",
       "</div>"
      ],
      "text/plain": [
       "       Date   Price    Open    High     Low    Vol. Change %\n",
       "198  Jun 03  669.93  643.93  690.70  632.47   9.80B    5.76%\n",
       "199  May 03  633.42  600.47  637.19  582.87   9.59B    5.68%\n",
       "200  Apr 03  599.35  529.07  627.50  525.51  15.51B   11.88%\n",
       "201  Mar 03  535.70  578.50  590.55  512.30  14.94B   -6.90%\n",
       "202  Feb 03  575.43  591.88  619.45  561.69  11.62B   -2.78%"
      ]
     },
     "execution_count": 60,
     "metadata": {},
     "output_type": "execute_result"
    }
   ],
   "source": [
    "kospi.tail()"
   ]
  },
  {
   "cell_type": "code",
   "execution_count": 47,
   "metadata": {},
   "outputs": [
    {
     "data": {
      "text/plain": [
       "0"
      ]
     },
     "execution_count": 47,
     "metadata": {},
     "output_type": "execute_result"
    }
   ],
   "source": [
    "len(kospi['Date'])-len(hyundai['Date'])"
   ]
  },
  {
   "cell_type": "code",
   "execution_count": 48,
   "metadata": {},
   "outputs": [
    {
     "data": {
      "text/plain": [
       "False"
      ]
     },
     "execution_count": 48,
     "metadata": {},
     "output_type": "execute_result"
    }
   ],
   "source": [
    "'Dec 13, 2020' in kospi['Date'].values.tolist()"
   ]
  },
  {
   "cell_type": "code",
   "execution_count": 49,
   "metadata": {},
   "outputs": [
    {
     "data": {
      "text/plain": [
       "'0.07%'"
      ]
     },
     "execution_count": 49,
     "metadata": {},
     "output_type": "execute_result"
    }
   ],
   "source": [
    "kospi[kospi['Date'].isin([hyundai['Date'][3]])]['Change %'].values[0]"
   ]
  },
  {
   "cell_type": "code",
   "execution_count": 55,
   "metadata": {},
   "outputs": [
    {
     "data": {
      "text/plain": [
       "'6.98%'"
      ]
     },
     "execution_count": 55,
     "metadata": {},
     "output_type": "execute_result"
    }
   ],
   "source": [
    "kospi[kospi['Date'].isin(['Dec 18, 2020'])]['Change %'][0]"
   ]
  },
  {
   "cell_type": "code",
   "execution_count": 51,
   "metadata": {},
   "outputs": [],
   "source": [
    "kospi['Date'] ='Dec 18, 2020'"
   ]
  },
  {
   "cell_type": "code",
   "execution_count": 62,
   "metadata": {},
   "outputs": [
    {
     "name": "stdout",
     "output_type": "stream",
     "text": [
      "1\n"
     ]
    }
   ],
   "source": [
    "count = 1\n",
    "x = []\n",
    "y = []\n",
    "change = []\n",
    "for i in range(len(hyundai['Date'])):\n",
    "    if not hyundai['Date'][i] in kospi['Date'].values.tolist():\n",
    "        #print(hyundai['Date'][i])\n",
    "        count += 1\n",
    "    if hyundai['Date'][i] in kospi['Date'].values.tolist():\n",
    "        change.append([hyundai['Date'][i], hyundai['Change %'][i].split('%')[0],kospi[kospi['Date'].isin([hyundai['Date'][i]])]['Change %'].values[0].split('%')[0]])\n",
    "        x.append(float(kospi[kospi['Date'].isin([hyundai['Date'][i]])]['Change %'].values[0].split('%')[0]))\n",
    "        y.append(float(hyundai['Change %'][i].split('%')[0]))\n",
    "print(count)"
   ]
  },
  {
   "cell_type": "code",
   "execution_count": 64,
   "metadata": {},
   "outputs": [],
   "source": [
    "temp = pd.DataFrame(change, columns = ['Date','Hyundai','KOSPI'])\n",
    "temp.to_excel(excel_writer=r'C:\\Users\\com\\[MSB535]\\data\\project.xlsx')"
   ]
  },
  {
   "cell_type": "code",
   "execution_count": 67,
   "metadata": {},
   "outputs": [
    {
     "data": {
      "text/plain": [
       "[6.98,\n",
       " 14.3,\n",
       " -2.61,\n",
       " 0.07,\n",
       " 3.41,\n",
       " 6.69,\n",
       " 3.88,\n",
       " 4.21,\n",
       " 10.99,\n",
       " -11.69,\n",
       " -6.23,\n",
       " -3.58,\n",
       " 5.25]"
      ]
     },
     "execution_count": 67,
     "metadata": {},
     "output_type": "execute_result"
    }
   ],
   "source": [
    "x"
   ]
  },
  {
   "cell_type": "code",
   "execution_count": 17,
   "metadata": {},
   "outputs": [
    {
     "data": {
      "image/png": "[encoded data removed]",
      "text/plain": [
       "<Figure size 720x504 with 1 Axes>"
      ]
     },
     "metadata": {
      "needs_background": "light"
     },
     "output_type": "display_data"
    }
   ],
   "source": [
    "xs = pd.Series(x).values\n",
    "line = LinearRegression()\n",
    "line.fit(xs.reshape(-1,1),y)\n",
    "fig = plt.figure()\n",
    "ax = fig.add_subplot(1,1,1)\n",
    "ax.figure\n",
    "ax.spines['bottom'].set_position(('axes', 0.5))\n",
    "ax.spines['left'].set_position(('axes', 0.5))\n",
    "ax.spines['top'].set_position(('axes', 0.5))\n",
    "ax.spines['right'].set_position(('axes', 0.5))\n",
    "ax.plot(xs, y, 'o', color = 'navy')\n",
    "ax.plot(xs,line.predict(xs.reshape(-1,1)), color = 'green')\n",
    "plt.rcParams[\"figure.figsize\"] = (10,7)\n",
    "plt.rcParams['axes.grid'] = True "
   ]
  },
  {
   "cell_type": "code",
   "execution_count": 18,
   "metadata": {},
   "outputs": [
    {
     "name": "stdout",
     "output_type": "stream",
     "text": [
      "[0.97418272]\n",
      "-0.3165406452976848\n"
     ]
    },
    {
     "data": {
      "text/plain": [
       "(None, None)"
      ]
     },
     "execution_count": 18,
     "metadata": {},
     "output_type": "execute_result"
    }
   ],
   "source": [
    "print(line.coef_),print(line.intercept_)"
   ]
  },
  {
   "cell_type": "code",
   "execution_count": 27,
   "metadata": {},
   "outputs": [],
   "source": [
    "url = \"https://www.investing.com/instruments/HistoricalDataAjax\"\n",
    "head = {\n",
    "    'User-Agent': 'Mozilla/5.0 (Windows NT 10.0; Win64; x64) AppleWebKit/537.36 (KHTML, like Gecko) Chrome/86.0.4240.183 Safari/537.36',\n",
    "    'X-Requested-With': 'XMLHttpRequest'\n",
    "}\n",
    "payload = {\n",
    "    'curr_id': '29294',\n",
    "'smlID': '205695',\n",
    "'header': 'South Korea 1-Year Bond Yield Historical Data',\n",
    "'st_date': '01/01/2011',\n",
    "#'st_date': '11/18/2019',\n",
    "'end_date': '12/31/2019',\n",
    "'interval_sec': 'Monthly',\n",
    "'sort_col': 'date',\n",
    "'sort_ord': 'DESC',\n",
    "'action': 'historical_data',\n",
    "}\n",
    "raw = req.post(url, headers = head, data = payload)\n",
    "raw.status_code\n",
    "soup = BeautifulSoup(raw.text)\n",
    "riskfree = pd.read_html(str(soup.find('table')))[0]\n",
    "#yraw1.to_excel(excel_writer=r'C:\\Users\\com\\MSB535\\data\\대한항공주가.xlsx')\n",
    "#13년 8월 주가정보 없음."
   ]
  },
  {
   "cell_type": "code",
   "execution_count": 55,
   "metadata": {},
   "outputs": [],
   "source": [
    "temp = riskfree['Change %'].to_list()\n",
    "for i in range(len(temp)):\n",
    "    temp[i] = float(temp[i].strip('%'))"
   ]
  },
  {
   "cell_type": "code",
   "execution_count": 56,
   "metadata": {},
   "outputs": [
    {
     "data": {
      "text/plain": [
       "-0.49981481481481477"
      ]
     },
     "execution_count": 56,
     "metadata": {},
     "output_type": "execute_result"
    }
   ],
   "source": [
    "np.mean(np.array(temp))"
   ]
  },
  {
   "cell_type": "code",
   "execution_count": null,
   "metadata": {},
   "outputs": [],
   "source": []
  }
 ],
 "metadata": {
  "kernelspec": {
   "display_name": "Python 3",
   "language": "python",
   "name": "python3"
  },
  "language_info": {
   "codemirror_mode": {
    "name": "ipython",
    "version": 3
   },
   "file_extension": ".py",
   "mimetype": "text/x-python",
   "name": "python",
   "nbconvert_exporter": "python",
   "pygments_lexer": "ipython3",
   "version": "3.7.3"
  }
 },
 "nbformat": 4,
 "nbformat_minor": 2
}
